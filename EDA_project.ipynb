{
  "cells": [
    {
      "cell_type": "markdown",
      "metadata": {
        "id": "view-in-github",
        "colab_type": "text"
      },
      "source": [
        "<a href=\"https://colab.research.google.com/github/Krai-17/Swiggy-EDA-Data-Visualisation/blob/main/EDA_project.ipynb\" target=\"_parent\"><img src=\"https://colab.research.google.com/assets/colab-badge.svg\" alt=\"Open In Colab\"/></a>"
      ]
    },
    {
      "cell_type": "markdown",
      "id": "e069f5f3",
      "metadata": {
        "id": "e069f5f3"
      },
      "source": [
        "# **Swiggy dataset EDA and Analysis**"
      ]
    },
    {
      "cell_type": "markdown",
      "id": "3f74f405",
      "metadata": {
        "id": "3f74f405"
      },
      "source": [
        "#### Food delivery has become one of the prominent services adopted by the restaurant industry. The metropolitan cities are getting busier and hooked up to work so the people prefer ordering food online as they seldom find time to buy groceries and cook food. Start-up’s such as Swiggy, Zomato, Dunzo etc. are huge choice of medium for delivering food at their door steps. The food delivery is highly prevailing in the metropolitan cities. \n",
        "\n",
        "#### * Customers provide rating once the order is completed and these ratings depend on many factors such as:\n",
        "                 * quality, quantity,etc. of the food.\n",
        "                 * delivery time\n",
        "                 * Cost of food and delivery\n",
        "                 * behavior of staff\n",
        "\n",
        "#### Customer orders from the same restaurant again if the food quality is good and also from the same service provider if the delivery service is satisfying and thus creating a demand of that restaurant food and delivery service.\n",
        "#### Hence it is an important job to analyse the data and figure out ways to remove issues and improve the brand service and value.\n",
        "\n"
      ]
    },
    {
      "cell_type": "markdown",
      "id": "9c8ba5cf",
      "metadata": {
        "id": "9c8ba5cf"
      },
      "source": [
        "## **Context of datset**\n",
        "#### The dataset used in this project is sourced from kaggle. It contains Restaurants/Food Outlets in Top 50 most populous cities in India, but the list only contains 49 cities as Swiggy does not provide services in Srinagar."
      ]
    },
    {
      "cell_type": "markdown",
      "id": "916355f7",
      "metadata": {
        "id": "916355f7"
      },
      "source": [
        "## Import libraries\n",
        "#### Importing libraries required for eda and visulaisation"
      ]
    },
    {
      "cell_type": "code",
      "execution_count": null,
      "id": "e461e0c6",
      "metadata": {
        "id": "e461e0c6"
      },
      "outputs": [],
      "source": [
        "import pandas as pd\n",
        "import numpy as np\n",
        "import matplotlib.pyplot as plt\n",
        "import seaborn as sns"
      ]
    },
    {
      "cell_type": "markdown",
      "id": "c9b2388c",
      "metadata": {
        "id": "c9b2388c"
      },
      "source": [
        "## Uderstanding the data\n",
        "#### We'll start by exploring the data, its shape, size, features, types of values in rows and columns,etc to get the basic understanding of the dataset"
      ]
    },
    {
      "cell_type": "code",
      "execution_count": null,
      "id": "92cbc8b8",
      "metadata": {
        "id": "92cbc8b8"
      },
      "outputs": [],
      "source": [
        "data=pd.read_csv(r\"C:\\Users\\Kritika Rai\\Downloads\\archive (6)\\Swiggy_50.csv\")"
      ]
    },
    {
      "cell_type": "markdown",
      "id": "d56c033c",
      "metadata": {
        "id": "d56c033c"
      },
      "source": [
        "#### Creatinga copy of the original dataset to access deleted values if needed"
      ]
    },
    {
      "cell_type": "code",
      "execution_count": null,
      "id": "b7150c97",
      "metadata": {
        "id": "b7150c97"
      },
      "outputs": [],
      "source": [
        "dataset=data.copy()"
      ]
    },
    {
      "cell_type": "markdown",
      "id": "841cc5f7",
      "metadata": {
        "id": "841cc5f7"
      },
      "source": [
        "#### Shape of dataset(rows,columns): (31804, 10)"
      ]
    },
    {
      "cell_type": "code",
      "execution_count": null,
      "id": "809579a5",
      "metadata": {
        "id": "809579a5"
      },
      "outputs": [],
      "source": [
        "data.shape"
      ]
    },
    {
      "cell_type": "markdown",
      "id": "4c769e6c",
      "metadata": {
        "id": "4c769e6c"
      },
      "source": [
        "## Peeking the dataset"
      ]
    },
    {
      "cell_type": "code",
      "execution_count": null,
      "id": "6102f7ee",
      "metadata": {
        "id": "6102f7ee"
      },
      "outputs": [],
      "source": [
        "data.head()"
      ]
    },
    {
      "cell_type": "markdown",
      "id": "fa6be97f",
      "metadata": {
        "id": "fa6be97f"
      },
      "source": [
        "## Data Content\n",
        "#### The dataset has 10 variables namely:\n",
        "    * Restaurant Name\n",
        "    * Category\n",
        "    * Rating                  \n",
        "    * Cost for two              \n",
        "    * Veg                        \n",
        "    * city                     \n",
        "    * Area                     \n",
        "    * Locality                 \n",
        "    * Address                 \n",
        "    * Long Distance Delivery "
      ]
    },
    {
      "cell_type": "markdown",
      "id": "9bb38dd8",
      "metadata": {
        "id": "9bb38dd8"
      },
      "source": [
        "# DATA CLEANING "
      ]
    },
    {
      "cell_type": "markdown",
      "id": "2610b029",
      "metadata": {
        "id": "2610b029"
      },
      "source": [
        "#### We will start be checking for duplicates and dropping them if present"
      ]
    },
    {
      "cell_type": "code",
      "execution_count": null,
      "id": "6c5ef386",
      "metadata": {
        "id": "6c5ef386"
      },
      "outputs": [],
      "source": [
        "data.duplicated().sum() # no duplicates"
      ]
    },
    {
      "cell_type": "code",
      "execution_count": null,
      "id": "5dc71c4d",
      "metadata": {
        "id": "5dc71c4d",
        "outputId": "8b2eb941-bdd8-4e32-e271-c43f0f97cc2a"
      },
      "outputs": [
        {
          "name": "stdout",
          "output_type": "stream",
          "text": [
            "<class 'pandas.core.frame.DataFrame'>\n",
            "Int64Index: 31800 entries, 0 to 31803\n",
            "Data columns (total 9 columns):\n",
            " #   Column                  Non-Null Count  Dtype  \n",
            "---  ------                  --------------  -----  \n",
            " 0   Restaurant Name         31800 non-null  object \n",
            " 1   Category                31800 non-null  object \n",
            " 2   Rating                  31800 non-null  float64\n",
            " 3   Cost for two (₹)        31800 non-null  int64  \n",
            " 4   Veg                     31800 non-null  bool   \n",
            " 5   city                    31800 non-null  object \n",
            " 6   Area                    31800 non-null  object \n",
            " 7   Locality                31800 non-null  object \n",
            " 8   Long Distance Delivery  31800 non-null  int64  \n",
            "dtypes: bool(1), float64(1), int64(2), object(5)\n",
            "memory usage: 2.2+ MB\n"
          ]
        }
      ],
      "source": [
        "data.info()"
      ]
    },
    {
      "cell_type": "markdown",
      "id": "6b232191",
      "metadata": {
        "id": "6b232191"
      },
      "source": [
        "#### The above information shows:\n",
        "        * that out of 10 columns, 3 are numerical, 1 is boolean and rest 6 object type\n",
        "        * Some of the fields have null values\n",
        "        * There are no duplicates"
      ]
    },
    {
      "cell_type": "markdown",
      "id": "1495fc28",
      "metadata": {
        "id": "1495fc28"
      },
      "source": [
        "#### Next, the null values need to be handled for cleaning the data and making it useful for visualisation"
      ]
    },
    {
      "cell_type": "code",
      "execution_count": null,
      "id": "df6a255b",
      "metadata": {
        "id": "df6a255b",
        "outputId": "48c5abb9-8858-4f6e-a988-88b65f620ffe"
      },
      "outputs": [
        {
          "data": {
            "text/plain": [
              "Restaurant Name               0\n",
              "Category                      0\n",
              "Rating                    17666\n",
              "Cost for two                  0\n",
              "Veg                           0\n",
              "city                          0\n",
              "Area                          0\n",
              "Locality                     24\n",
              "Address                       2\n",
              "Long Distance Delivery        0\n",
              "dtype: int64"
            ]
          },
          "execution_count": 47,
          "metadata": {},
          "output_type": "execute_result"
        }
      ],
      "source": [
        "data.isnull().sum()\n",
        "\n"
      ]
    },
    {
      "cell_type": "markdown",
      "id": "1bf84814",
      "metadata": {
        "id": "1bf84814"
      },
      "source": [
        "#### From above table, it shows that the fields Rating, Locality and Address have null values(in ascending order)."
      ]
    },
    {
      "cell_type": "markdown",
      "id": "ad924db6",
      "metadata": {
        "id": "ad924db6"
      },
      "source": [
        "#### Firstly, Address column can be dropped as the exact address of the customer is not needed, only the locality is required which present seperately in the dataset"
      ]
    },
    {
      "cell_type": "code",
      "execution_count": null,
      "id": "c2ae9993",
      "metadata": {
        "id": "c2ae9993"
      },
      "outputs": [],
      "source": [
        "#removing 'Address'\n",
        "data.drop(['Address'],inplace=True,axis=1)"
      ]
    },
    {
      "cell_type": "code",
      "execution_count": null,
      "id": "337204d1",
      "metadata": {
        "id": "337204d1",
        "outputId": "4e85eb1d-23d7-4768-8c83-b2f6cb3e4138"
      },
      "outputs": [
        {
          "name": "stdout",
          "output_type": "stream",
          "text": [
            "<class 'pandas.core.frame.DataFrame'>\n",
            "RangeIndex: 31804 entries, 0 to 31803\n",
            "Data columns (total 9 columns):\n",
            " #   Column                  Non-Null Count  Dtype  \n",
            "---  ------                  --------------  -----  \n",
            " 0   Restaurant Name         31804 non-null  object \n",
            " 1   Category                31804 non-null  object \n",
            " 2   Rating                  14138 non-null  float64\n",
            " 3   Cost for two            31804 non-null  int64  \n",
            " 4   Veg                     31804 non-null  bool   \n",
            " 5   city                    31804 non-null  object \n",
            " 6   Area                    31804 non-null  object \n",
            " 7   Locality                31780 non-null  object \n",
            " 8   Long Distance Delivery  31804 non-null  int64  \n",
            "dtypes: bool(1), float64(1), int64(2), object(5)\n",
            "memory usage: 2.0+ MB\n"
          ]
        }
      ],
      "source": [
        "data.info() # Columns after deleting 'Address' "
      ]
    },
    {
      "cell_type": "markdown",
      "id": "2cdb93b2",
      "metadata": {
        "id": "2cdb93b2"
      },
      "source": [
        "#### Next, the null values in 'Locality' can be filled with 'NA' as filling out with assumed values is not appropriate"
      ]
    },
    {
      "cell_type": "code",
      "execution_count": null,
      "id": "3977f0c6",
      "metadata": {
        "id": "3977f0c6"
      },
      "outputs": [],
      "source": [
        "data['Locality'].fillna('NA',inplace=True)"
      ]
    },
    {
      "cell_type": "code",
      "execution_count": null,
      "id": "826c958d",
      "metadata": {
        "id": "826c958d",
        "outputId": "bd612fa6-1fcc-4c5c-f2b5-847af3217d9e"
      },
      "outputs": [
        {
          "data": {
            "text/plain": [
              "Restaurant Name               0\n",
              "Category                      0\n",
              "Rating                    17666\n",
              "Cost for two                  0\n",
              "Veg                           0\n",
              "city                          0\n",
              "Area                          0\n",
              "Locality                      0\n",
              "Long Distance Delivery        0\n",
              "dtype: int64"
            ]
          },
          "execution_count": 51,
          "metadata": {},
          "output_type": "execute_result"
        }
      ],
      "source": [
        "data.isnull().sum() # Checking if the values are filled"
      ]
    },
    {
      "cell_type": "markdown",
      "id": "d3119a30",
      "metadata": {
        "id": "d3119a30"
      },
      "source": [
        "#### Lastly, the null values in 'Rating' can be filled with 0 as the ratings start from 1, making them as outliers "
      ]
    },
    {
      "cell_type": "code",
      "execution_count": null,
      "id": "d46a9703",
      "metadata": {
        "id": "d46a9703"
      },
      "outputs": [],
      "source": [
        "data['Rating'].fillna(0,inplace=True)"
      ]
    },
    {
      "cell_type": "code",
      "execution_count": null,
      "id": "76747f4d",
      "metadata": {
        "id": "76747f4d",
        "outputId": "b3011269-6573-44f5-8df0-43a966b25cdb"
      },
      "outputs": [
        {
          "data": {
            "text/plain": [
              "Restaurant Name           0\n",
              "Category                  0\n",
              "Rating                    0\n",
              "Cost for two              0\n",
              "Veg                       0\n",
              "city                      0\n",
              "Area                      0\n",
              "Locality                  0\n",
              "Long Distance Delivery    0\n",
              "dtype: int64"
            ]
          },
          "execution_count": 53,
          "metadata": {},
          "output_type": "execute_result"
        }
      ],
      "source": [
        "data.isnull().sum() # checking to see if the null values are removed"
      ]
    },
    {
      "cell_type": "markdown",
      "id": "532beaa1",
      "metadata": {
        "id": "532beaa1"
      },
      "source": [
        "#### Renaming 'Cost for two' as 'Cost for two (₹)' to remove ambiguity"
      ]
    },
    {
      "cell_type": "code",
      "execution_count": null,
      "id": "fed9c336",
      "metadata": {
        "id": "fed9c336"
      },
      "outputs": [],
      "source": [
        "data.rename(columns = {'Cost for two': 'Cost for two (₹)'}, inplace=True)"
      ]
    },
    {
      "cell_type": "code",
      "execution_count": null,
      "id": "51c3d03f",
      "metadata": {
        "id": "51c3d03f",
        "outputId": "f15ff5fc-780f-4050-b843-5c66b088df41"
      },
      "outputs": [
        {
          "data": {
            "text/html": [
              "<div>\n",
              "<style scoped>\n",
              "    .dataframe tbody tr th:only-of-type {\n",
              "        vertical-align: middle;\n",
              "    }\n",
              "\n",
              "    .dataframe tbody tr th {\n",
              "        vertical-align: top;\n",
              "    }\n",
              "\n",
              "    .dataframe thead th {\n",
              "        text-align: right;\n",
              "    }\n",
              "</style>\n",
              "<table border=\"1\" class=\"dataframe\">\n",
              "  <thead>\n",
              "    <tr style=\"text-align: right;\">\n",
              "      <th></th>\n",
              "      <th>Restaurant Name</th>\n",
              "      <th>Category</th>\n",
              "      <th>Rating</th>\n",
              "      <th>Cost for two (₹)</th>\n",
              "      <th>Veg</th>\n",
              "      <th>city</th>\n",
              "      <th>Area</th>\n",
              "      <th>Locality</th>\n",
              "      <th>Long Distance Delivery</th>\n",
              "    </tr>\n",
              "  </thead>\n",
              "  <tbody>\n",
              "    <tr>\n",
              "      <th>0</th>\n",
              "      <td>KFC</td>\n",
              "      <td>American,Snacks,Biryani</td>\n",
              "      <td>3.9</td>\n",
              "      <td>400</td>\n",
              "      <td>False</td>\n",
              "      <td>Delhi</td>\n",
              "      <td>Paharganj</td>\n",
              "      <td>KFC Paharganj</td>\n",
              "      <td>0</td>\n",
              "    </tr>\n",
              "    <tr>\n",
              "      <th>1</th>\n",
              "      <td>McDonald's</td>\n",
              "      <td>American</td>\n",
              "      <td>4.3</td>\n",
              "      <td>400</td>\n",
              "      <td>False</td>\n",
              "      <td>Delhi</td>\n",
              "      <td>Kashmere Gate</td>\n",
              "      <td>Delhi ISBT DMRC (GF)</td>\n",
              "      <td>0</td>\n",
              "    </tr>\n",
              "  </tbody>\n",
              "</table>\n",
              "</div>"
            ],
            "text/plain": [
              "  Restaurant Name                 Category  Rating  Cost for two (₹)    Veg  \\\n",
              "0             KFC  American,Snacks,Biryani     3.9               400  False   \n",
              "1      McDonald's                 American     4.3               400  False   \n",
              "\n",
              "    city           Area              Locality  Long Distance Delivery  \n",
              "0  Delhi      Paharganj         KFC Paharganj                       0  \n",
              "1  Delhi  Kashmere Gate  Delhi ISBT DMRC (GF)                       0  "
            ]
          },
          "execution_count": 55,
          "metadata": {},
          "output_type": "execute_result"
        }
      ],
      "source": [
        "data.head(2)"
      ]
    },
    {
      "cell_type": "markdown",
      "id": "6f8f621c",
      "metadata": {
        "id": "6f8f621c"
      },
      "source": [
        "## Insights"
      ]
    },
    {
      "cell_type": "code",
      "execution_count": null,
      "id": "2e9b70f6",
      "metadata": {
        "id": "2e9b70f6",
        "outputId": "6070b222-3ebb-4dd4-deda-976820fca239"
      },
      "outputs": [
        {
          "ename": "NameError",
          "evalue": "name 'data' is not defined",
          "output_type": "error",
          "traceback": [
            "\u001b[1;31m---------------------------------------------------------------------------\u001b[0m",
            "\u001b[1;31mNameError\u001b[0m                                 Traceback (most recent call last)",
            "\u001b[1;32m<ipython-input-11-2bb0b18689d4>\u001b[0m in \u001b[0;36m<module>\u001b[1;34m\u001b[0m\n\u001b[1;32m----> 1\u001b[1;33m \u001b[0mdata\u001b[0m\u001b[1;33m.\u001b[0m\u001b[0mdescribe\u001b[0m\u001b[1;33m(\u001b[0m\u001b[1;33m)\u001b[0m\u001b[1;33m\u001b[0m\u001b[1;33m\u001b[0m\u001b[0m\n\u001b[0m",
            "\u001b[1;31mNameError\u001b[0m: name 'data' is not defined"
          ]
        }
      ],
      "source": [
        "data.describe()"
      ]
    },
    {
      "cell_type": "code",
      "execution_count": null,
      "id": "3e8267dd",
      "metadata": {
        "id": "3e8267dd",
        "outputId": "e2a3b70f-1a94-4e53-e2aa-65c9f428a700"
      },
      "outputs": [
        {
          "ename": "NameError",
          "evalue": "name 'data' is not defined",
          "output_type": "error",
          "traceback": [
            "\u001b[1;31m---------------------------------------------------------------------------\u001b[0m",
            "\u001b[1;31mNameError\u001b[0m                                 Traceback (most recent call last)",
            "\u001b[1;32m<ipython-input-12-b16f882f9c35>\u001b[0m in \u001b[0;36m<module>\u001b[1;34m\u001b[0m\n\u001b[1;32m----> 1\u001b[1;33m \u001b[0mdata\u001b[0m\u001b[1;33m[\u001b[0m\u001b[1;34m'Long Distance Delivery'\u001b[0m\u001b[1;33m]\u001b[0m\u001b[1;33m.\u001b[0m\u001b[0munique\u001b[0m\u001b[1;33m(\u001b[0m\u001b[1;33m)\u001b[0m\u001b[1;33m\u001b[0m\u001b[1;33m\u001b[0m\u001b[0m\n\u001b[0m",
            "\u001b[1;31mNameError\u001b[0m: name 'data' is not defined"
          ]
        }
      ],
      "source": [
        "data['Long Distance Delivery'].unique()"
      ]
    },
    {
      "cell_type": "markdown",
      "id": "2f36cf5a",
      "metadata": {
        "id": "2f36cf5a"
      },
      "source": [
        "#### Insights\n",
        "    * The dataset has more categorical variables than continuous variables\n",
        "    * We have 31804 values in each variable\n",
        "    * Rating ranges from 0-5 with avg of 1.7\n",
        "    * Cost for two ranges from Rs.0-3100 with mean of approx. Rs.290\n",
        "    * Long Distance Delivery has two values (0,1) with median of 0"
      ]
    },
    {
      "cell_type": "markdown",
      "id": "5d8c5f6d",
      "metadata": {
        "id": "5d8c5f6d"
      },
      "source": [
        "### Conclusions\n",
        "    * Rating of 0 is used for null values amd rating are in range 1-5\n",
        "    * There is more than 50 %ile of null values(0) in Rating column which is skewing the description\n",
        "    * Cost for two cannot be 0 as shown by the table i.e. min=0\n",
        "    * Avg. cost for two is around Rs.290 with more than half of the products costing lesser"
      ]
    },
    {
      "cell_type": "markdown",
      "id": "95d5c923",
      "metadata": {
        "id": "95d5c923"
      },
      "source": [
        "#### Checking rows having 'Cost for two' as 0"
      ]
    },
    {
      "cell_type": "code",
      "execution_count": null,
      "id": "4bc6ecf9",
      "metadata": {
        "id": "4bc6ecf9",
        "outputId": "b0a65225-0061-40be-9aa8-c448a8f062c9"
      },
      "outputs": [
        {
          "data": {
            "text/html": [
              "<div>\n",
              "<style scoped>\n",
              "    .dataframe tbody tr th:only-of-type {\n",
              "        vertical-align: middle;\n",
              "    }\n",
              "\n",
              "    .dataframe tbody tr th {\n",
              "        vertical-align: top;\n",
              "    }\n",
              "\n",
              "    .dataframe thead th {\n",
              "        text-align: right;\n",
              "    }\n",
              "</style>\n",
              "<table border=\"1\" class=\"dataframe\">\n",
              "  <thead>\n",
              "    <tr style=\"text-align: right;\">\n",
              "      <th></th>\n",
              "      <th>Restaurant Name</th>\n",
              "      <th>Category</th>\n",
              "      <th>Rating</th>\n",
              "      <th>Cost for two (₹)</th>\n",
              "      <th>Veg</th>\n",
              "      <th>city</th>\n",
              "      <th>Area</th>\n",
              "      <th>Locality</th>\n",
              "      <th>Long Distance Delivery</th>\n",
              "    </tr>\n",
              "  </thead>\n",
              "  <tbody>\n",
              "    <tr>\n",
              "      <th>2555</th>\n",
              "      <td>Manik'S Modern Fresh Popcorn</td>\n",
              "      <td>Snacks</td>\n",
              "      <td>4.6</td>\n",
              "      <td>0</td>\n",
              "      <td>True</td>\n",
              "      <td>Mumbai</td>\n",
              "      <td>Matunga</td>\n",
              "      <td>Matunga</td>\n",
              "      <td>1</td>\n",
              "    </tr>\n",
              "    <tr>\n",
              "      <th>12142</th>\n",
              "      <td>New Chappan Bhog</td>\n",
              "      <td>Sweets,Snacks</td>\n",
              "      <td>4.1</td>\n",
              "      <td>0</td>\n",
              "      <td>False</td>\n",
              "      <td>Cawnpore</td>\n",
              "      <td>Khyora</td>\n",
              "      <td>Nagar Nigam Market</td>\n",
              "      <td>0</td>\n",
              "    </tr>\n",
              "    <tr>\n",
              "      <th>18314</th>\n",
              "      <td>Prakash Vegetables And Fruits</td>\n",
              "      <td>8:15 To 11:30 Pm</td>\n",
              "      <td>0.0</td>\n",
              "      <td>0</td>\n",
              "      <td>False</td>\n",
              "      <td>Chinchvad</td>\n",
              "      <td>Pimple Saudagar</td>\n",
              "      <td>Vishwashanti Colony No 4</td>\n",
              "      <td>1</td>\n",
              "    </tr>\n",
              "    <tr>\n",
              "      <th>30209</th>\n",
              "      <td>Ferns n Petal</td>\n",
              "      <td>Indian</td>\n",
              "      <td>0.0</td>\n",
              "      <td>0</td>\n",
              "      <td>False</td>\n",
              "      <td>Chandigarh</td>\n",
              "      <td>North Mohali</td>\n",
              "      <td>mohali</td>\n",
              "      <td>1</td>\n",
              "    </tr>\n",
              "  </tbody>\n",
              "</table>\n",
              "</div>"
            ],
            "text/plain": [
              "                     Restaurant Name          Category  Rating  \\\n",
              "2555    Manik'S Modern Fresh Popcorn            Snacks     4.6   \n",
              "12142               New Chappan Bhog     Sweets,Snacks     4.1   \n",
              "18314  Prakash Vegetables And Fruits  8:15 To 11:30 Pm     0.0   \n",
              "30209                  Ferns n Petal            Indian     0.0   \n",
              "\n",
              "       Cost for two (₹)    Veg        city             Area  \\\n",
              "2555                  0   True      Mumbai          Matunga   \n",
              "12142                 0  False    Cawnpore           Khyora   \n",
              "18314                 0  False   Chinchvad  Pimple Saudagar   \n",
              "30209                 0  False  Chandigarh     North Mohali   \n",
              "\n",
              "                       Locality  Long Distance Delivery  \n",
              "2555                    Matunga                       1  \n",
              "12142        Nagar Nigam Market                       0  \n",
              "18314  Vishwashanti Colony No 4                       1  \n",
              "30209                    mohali                       1  "
            ]
          },
          "execution_count": 8,
          "metadata": {},
          "output_type": "execute_result"
        }
      ],
      "source": [
        "data[data['Cost for two (₹)']<1]"
      ]
    },
    {
      "cell_type": "markdown",
      "id": "8d9a69a4",
      "metadata": {
        "id": "8d9a69a4"
      },
      "source": [
        "#### Dropping the 4 rows having Cost for two as 0"
      ]
    },
    {
      "cell_type": "code",
      "execution_count": null,
      "id": "7b014ea4",
      "metadata": {
        "id": "7b014ea4"
      },
      "outputs": [],
      "source": [
        "data.drop(data[(data['Cost for two (₹)']==0)].index, inplace=True)"
      ]
    },
    {
      "cell_type": "markdown",
      "id": "f86d0450",
      "metadata": {
        "id": "f86d0450"
      },
      "source": [
        "#### Describing the continuous columns again to check for changed values after dropping"
      ]
    },
    {
      "cell_type": "code",
      "execution_count": null,
      "id": "8bb277f8",
      "metadata": {
        "id": "8bb277f8",
        "outputId": "676e54c7-f10c-4e7e-8602-77cae5066da8"
      },
      "outputs": [
        {
          "data": {
            "text/html": [
              "<div>\n",
              "<style scoped>\n",
              "    .dataframe tbody tr th:only-of-type {\n",
              "        vertical-align: middle;\n",
              "    }\n",
              "\n",
              "    .dataframe tbody tr th {\n",
              "        vertical-align: top;\n",
              "    }\n",
              "\n",
              "    .dataframe thead th {\n",
              "        text-align: right;\n",
              "    }\n",
              "</style>\n",
              "<table border=\"1\" class=\"dataframe\">\n",
              "  <thead>\n",
              "    <tr style=\"text-align: right;\">\n",
              "      <th></th>\n",
              "      <th>Rating</th>\n",
              "      <th>Cost for two (₹)</th>\n",
              "      <th>Long Distance Delivery</th>\n",
              "    </tr>\n",
              "  </thead>\n",
              "  <tbody>\n",
              "    <tr>\n",
              "      <th>count</th>\n",
              "      <td>31800.000000</td>\n",
              "      <td>31800.000000</td>\n",
              "      <td>31800.000000</td>\n",
              "    </tr>\n",
              "    <tr>\n",
              "      <th>mean</th>\n",
              "      <td>1.737075</td>\n",
              "      <td>289.832044</td>\n",
              "      <td>0.358365</td>\n",
              "    </tr>\n",
              "    <tr>\n",
              "      <th>std</th>\n",
              "      <td>1.965518</td>\n",
              "      <td>174.877141</td>\n",
              "      <td>0.479528</td>\n",
              "    </tr>\n",
              "    <tr>\n",
              "      <th>min</th>\n",
              "      <td>0.000000</td>\n",
              "      <td>1.000000</td>\n",
              "      <td>0.000000</td>\n",
              "    </tr>\n",
              "    <tr>\n",
              "      <th>25%</th>\n",
              "      <td>0.000000</td>\n",
              "      <td>200.000000</td>\n",
              "      <td>0.000000</td>\n",
              "    </tr>\n",
              "    <tr>\n",
              "      <th>50%</th>\n",
              "      <td>0.000000</td>\n",
              "      <td>250.000000</td>\n",
              "      <td>0.000000</td>\n",
              "    </tr>\n",
              "    <tr>\n",
              "      <th>75%</th>\n",
              "      <td>3.900000</td>\n",
              "      <td>300.000000</td>\n",
              "      <td>1.000000</td>\n",
              "    </tr>\n",
              "    <tr>\n",
              "      <th>max</th>\n",
              "      <td>5.000000</td>\n",
              "      <td>3100.000000</td>\n",
              "      <td>1.000000</td>\n",
              "    </tr>\n",
              "  </tbody>\n",
              "</table>\n",
              "</div>"
            ],
            "text/plain": [
              "             Rating  Cost for two (₹)  Long Distance Delivery\n",
              "count  31800.000000      31800.000000            31800.000000\n",
              "mean       1.737075        289.832044                0.358365\n",
              "std        1.965518        174.877141                0.479528\n",
              "min        0.000000          1.000000                0.000000\n",
              "25%        0.000000        200.000000                0.000000\n",
              "50%        0.000000        250.000000                0.000000\n",
              "75%        3.900000        300.000000                1.000000\n",
              "max        5.000000       3100.000000                1.000000"
            ]
          },
          "execution_count": 10,
          "metadata": {},
          "output_type": "execute_result"
        }
      ],
      "source": [
        "data.describe()"
      ]
    },
    {
      "cell_type": "markdown",
      "id": "46874d4b",
      "metadata": {
        "id": "46874d4b"
      },
      "source": [
        "#### From the table its visible that minimum Cost for two is not 0 anymore"
      ]
    },
    {
      "cell_type": "markdown",
      "id": "02d79e07",
      "metadata": {
        "id": "02d79e07"
      },
      "source": [
        "## Checking outliers\n",
        "\n",
        "#### Plotting Cost for two (₹) variable to check for outliers"
      ]
    },
    {
      "cell_type": "code",
      "execution_count": null,
      "id": "c690b4ed",
      "metadata": {
        "id": "c690b4ed",
        "outputId": "eb890b5c-3791-4109-d40d-d741bce9ac6f"
      },
      "outputs": [
        {
          "data": {
            "image/png": "[encoded data removed]",
            "text/plain": [
              "<Figure size 432x288 with 1 Axes>"
            ]
          },
          "metadata": {
            "needs_background": "light"
          },
          "output_type": "display_data"
        }
      ],
      "source": [
        "np.random.seed(10)\n",
        "#plt.figure(figsize =(10, 7))\n",
        " \n",
        "plt.boxplot(data['Cost for two (₹)'], vert=False) # Creating plot \n",
        "\n",
        "plt.show() # showing figure"
      ]
    },
    {
      "cell_type": "markdown",
      "id": "a327c27d",
      "metadata": {
        "id": "a327c27d"
      },
      "source": [
        "#### The above boxplot shows presence of outliers but cost of food can be as low and as high depending on the restaurant therefore, there's no need of handling outliers\n"
      ]
    },
    {
      "cell_type": "markdown",
      "id": "908c4d66",
      "metadata": {
        "id": "908c4d66"
      },
      "source": [
        "# Univariate analysis"
      ]
    },
    {
      "cell_type": "markdown",
      "id": "d235f4cc",
      "metadata": {
        "id": "d235f4cc"
      },
      "source": [
        "### Finding the most popular restaurants (No. of orders)"
      ]
    },
    {
      "cell_type": "code",
      "execution_count": null,
      "id": "171e79cd",
      "metadata": {
        "id": "171e79cd",
        "outputId": "87adf872-e9ae-40a6-9a95-8209036f3c7b"
      },
      "outputs": [
        {
          "data": {
            "text/plain": [
              "<AxesSubplot:>"
            ]
          },
          "execution_count": 12,
          "metadata": {},
          "output_type": "execute_result"
        },
        {
          "data": {
            "image/png": "[encoded data removed]",
            "text/plain": [
              "<Figure size 432x288 with 1 Axes>"
            ]
          },
          "metadata": {
            "needs_background": "light"
          },
          "output_type": "display_data"
        }
      ],
      "source": [
        "data['Restaurant Name'].value_counts()[0:20].plot.bar() # top 20 restaurants"
      ]
    },
    {
      "cell_type": "code",
      "execution_count": null,
      "id": "8cf57fd6",
      "metadata": {
        "id": "8cf57fd6",
        "outputId": "b08776c1-c40f-4774-b6a9-6e40593c2227"
      },
      "outputs": [
        {
          "data": {
            "text/html": [
              "<div>\n",
              "<style scoped>\n",
              "    .dataframe tbody tr th:only-of-type {\n",
              "        vertical-align: middle;\n",
              "    }\n",
              "\n",
              "    .dataframe tbody tr th {\n",
              "        vertical-align: top;\n",
              "    }\n",
              "\n",
              "    .dataframe thead th {\n",
              "        text-align: right;\n",
              "    }\n",
              "</style>\n",
              "<table border=\"1\" class=\"dataframe\">\n",
              "  <thead>\n",
              "    <tr style=\"text-align: right;\">\n",
              "      <th></th>\n",
              "      <th>Restaurant Name</th>\n",
              "      <th>Category</th>\n",
              "      <th>Rating</th>\n",
              "      <th>Cost for two (₹)</th>\n",
              "      <th>Veg</th>\n",
              "      <th>city</th>\n",
              "      <th>Area</th>\n",
              "      <th>Locality</th>\n",
              "      <th>Long Distance Delivery</th>\n",
              "    </tr>\n",
              "  </thead>\n",
              "  <tbody>\n",
              "    <tr>\n",
              "      <th>0</th>\n",
              "      <td>KFC</td>\n",
              "      <td>American,Snacks,Biryani</td>\n",
              "      <td>3.9</td>\n",
              "      <td>400</td>\n",
              "      <td>False</td>\n",
              "      <td>Delhi</td>\n",
              "      <td>Paharganj</td>\n",
              "      <td>KFC Paharganj</td>\n",
              "      <td>0</td>\n",
              "    </tr>\n",
              "    <tr>\n",
              "      <th>1</th>\n",
              "      <td>McDonald's</td>\n",
              "      <td>American</td>\n",
              "      <td>4.3</td>\n",
              "      <td>400</td>\n",
              "      <td>False</td>\n",
              "      <td>Delhi</td>\n",
              "      <td>Kashmere Gate</td>\n",
              "      <td>Delhi ISBT DMRC (GF)</td>\n",
              "      <td>0</td>\n",
              "    </tr>\n",
              "    <tr>\n",
              "      <th>2</th>\n",
              "      <td>Haldiram's</td>\n",
              "      <td>Sweets,Snacks,North Indian</td>\n",
              "      <td>4.0</td>\n",
              "      <td>350</td>\n",
              "      <td>True</td>\n",
              "      <td>Delhi</td>\n",
              "      <td>Chandni Chowk</td>\n",
              "      <td>Chandni Chowk</td>\n",
              "      <td>0</td>\n",
              "    </tr>\n",
              "    <tr>\n",
              "      <th>3</th>\n",
              "      <td>Chai Point</td>\n",
              "      <td>Bakery,Beverages,Maharashtrian,Snacks,Street F...</td>\n",
              "      <td>4.2</td>\n",
              "      <td>150</td>\n",
              "      <td>False</td>\n",
              "      <td>Delhi</td>\n",
              "      <td>Connaught Place</td>\n",
              "      <td>Connaught Place</td>\n",
              "      <td>0</td>\n",
              "    </tr>\n",
              "    <tr>\n",
              "      <th>4</th>\n",
              "      <td>Bikanervala Chandni Chowk</td>\n",
              "      <td>Street Food,Sweets</td>\n",
              "      <td>4.1</td>\n",
              "      <td>400</td>\n",
              "      <td>False</td>\n",
              "      <td>Delhi</td>\n",
              "      <td>Old Delhi</td>\n",
              "      <td>Old Delhi</td>\n",
              "      <td>0</td>\n",
              "    </tr>\n",
              "    <tr>\n",
              "      <th>...</th>\n",
              "      <td>...</td>\n",
              "      <td>...</td>\n",
              "      <td>...</td>\n",
              "      <td>...</td>\n",
              "      <td>...</td>\n",
              "      <td>...</td>\n",
              "      <td>...</td>\n",
              "      <td>...</td>\n",
              "      <td>...</td>\n",
              "    </tr>\n",
              "    <tr>\n",
              "      <th>31787</th>\n",
              "      <td>Dosa Planet</td>\n",
              "      <td>South Indian</td>\n",
              "      <td>3.8</td>\n",
              "      <td>200</td>\n",
              "      <td>True</td>\n",
              "      <td>Bareilly</td>\n",
              "      <td>Mahanagar Colony</td>\n",
              "      <td>Phoenix Mall</td>\n",
              "      <td>1</td>\n",
              "    </tr>\n",
              "    <tr>\n",
              "      <th>31788</th>\n",
              "      <td>Baba Biryani</td>\n",
              "      <td>Mughlai</td>\n",
              "      <td>3.6</td>\n",
              "      <td>400</td>\n",
              "      <td>False</td>\n",
              "      <td>Bareilly</td>\n",
              "      <td>Inside Phoenix Mall</td>\n",
              "      <td>Phoenix Mall</td>\n",
              "      <td>1</td>\n",
              "    </tr>\n",
              "    <tr>\n",
              "      <th>31792</th>\n",
              "      <td>Cafe Coffee Day</td>\n",
              "      <td>Beverages,Snacks,Desserts</td>\n",
              "      <td>3.8</td>\n",
              "      <td>300</td>\n",
              "      <td>False</td>\n",
              "      <td>Bareilly</td>\n",
              "      <td>Mahanagar Colony</td>\n",
              "      <td>PHEONIX MALL - BAREILLY- UP</td>\n",
              "      <td>1</td>\n",
              "    </tr>\n",
              "    <tr>\n",
              "      <th>31793</th>\n",
              "      <td>Chinese 'X' Press</td>\n",
              "      <td>Chinese</td>\n",
              "      <td>3.6</td>\n",
              "      <td>200</td>\n",
              "      <td>False</td>\n",
              "      <td>Bareilly</td>\n",
              "      <td>Inside Phoenix Mall</td>\n",
              "      <td>Phoenix Mall</td>\n",
              "      <td>1</td>\n",
              "    </tr>\n",
              "    <tr>\n",
              "      <th>31798</th>\n",
              "      <td>Om Kaleshwar Sweets &amp; Bhojnalaya</td>\n",
              "      <td>South Indian,Fast Food,Combo,Beverages</td>\n",
              "      <td>4.0</td>\n",
              "      <td>100</td>\n",
              "      <td>True</td>\n",
              "      <td>Bareilly</td>\n",
              "      <td>C.B.Ganj</td>\n",
              "      <td>Mini Bypass</td>\n",
              "      <td>0</td>\n",
              "    </tr>\n",
              "  </tbody>\n",
              "</table>\n",
              "<p>14136 rows × 9 columns</p>\n",
              "</div>"
            ],
            "text/plain": [
              "                        Restaurant Name  \\\n",
              "0                                   KFC   \n",
              "1                            McDonald's   \n",
              "2                            Haldiram's   \n",
              "3                            Chai Point   \n",
              "4             Bikanervala Chandni Chowk   \n",
              "...                                 ...   \n",
              "31787                       Dosa Planet   \n",
              "31788                      Baba Biryani   \n",
              "31792                   Cafe Coffee Day   \n",
              "31793                 Chinese 'X' Press   \n",
              "31798  Om Kaleshwar Sweets & Bhojnalaya   \n",
              "\n",
              "                                                Category  Rating  \\\n",
              "0                                American,Snacks,Biryani     3.9   \n",
              "1                                               American     4.3   \n",
              "2                             Sweets,Snacks,North Indian     4.0   \n",
              "3      Bakery,Beverages,Maharashtrian,Snacks,Street F...     4.2   \n",
              "4                                     Street Food,Sweets     4.1   \n",
              "...                                                  ...     ...   \n",
              "31787                                       South Indian     3.8   \n",
              "31788                                            Mughlai     3.6   \n",
              "31792                          Beverages,Snacks,Desserts     3.8   \n",
              "31793                                            Chinese     3.6   \n",
              "31798             South Indian,Fast Food,Combo,Beverages     4.0   \n",
              "\n",
              "       Cost for two (₹)    Veg      city                 Area  \\\n",
              "0                   400  False     Delhi            Paharganj   \n",
              "1                   400  False     Delhi        Kashmere Gate   \n",
              "2                   350   True     Delhi        Chandni Chowk   \n",
              "3                   150  False     Delhi      Connaught Place   \n",
              "4                   400  False     Delhi            Old Delhi   \n",
              "...                 ...    ...       ...                  ...   \n",
              "31787               200   True  Bareilly     Mahanagar Colony   \n",
              "31788               400  False  Bareilly  Inside Phoenix Mall   \n",
              "31792               300  False  Bareilly     Mahanagar Colony   \n",
              "31793               200  False  Bareilly  Inside Phoenix Mall   \n",
              "31798               100   True  Bareilly             C.B.Ganj   \n",
              "\n",
              "                          Locality  Long Distance Delivery  \n",
              "0                    KFC Paharganj                       0  \n",
              "1             Delhi ISBT DMRC (GF)                       0  \n",
              "2                    Chandni Chowk                       0  \n",
              "3                  Connaught Place                       0  \n",
              "4                        Old Delhi                       0  \n",
              "...                            ...                     ...  \n",
              "31787                 Phoenix Mall                       1  \n",
              "31788                 Phoenix Mall                       1  \n",
              "31792  PHEONIX MALL - BAREILLY- UP                       1  \n",
              "31793                 Phoenix Mall                       1  \n",
              "31798                  Mini Bypass                       0  \n",
              "\n",
              "[14136 rows x 9 columns]"
            ]
          },
          "execution_count": 13,
          "metadata": {},
          "output_type": "execute_result"
        }
      ],
      "source": [
        "valid_ratings=data[data['Rating']>1]\n",
        "valid_ratings"
      ]
    },
    {
      "cell_type": "code",
      "execution_count": null,
      "id": "71bfdfcf",
      "metadata": {
        "id": "71bfdfcf",
        "outputId": "037a4d46-755d-45f5-9af4-3be003601775"
      },
      "outputs": [
        {
          "data": {
            "text/plain": [
              "<matplotlib.collections.PathCollection at 0x25391ce9f70>"
            ]
          },
          "execution_count": 14,
          "metadata": {},
          "output_type": "execute_result"
        },
        {
          "data": {
            "image/png": "[encoded data removed]",
            "text/plain": [
              "<Figure size 432x288 with 1 Axes>"
            ]
          },
          "metadata": {
            "needs_background": "light"
          },
          "output_type": "display_data"
        }
      ],
      "source": [
        "plt.scatter(valid_ratings.index, valid_ratings['Rating'])"
      ]
    },
    {
      "cell_type": "code",
      "execution_count": null,
      "id": "2c1fc5fa",
      "metadata": {
        "id": "2c1fc5fa",
        "outputId": "9eb10b1b-4718-4286-c3fb-ddbf1ba3b13b"
      },
      "outputs": [
        {
          "name": "stderr",
          "output_type": "stream",
          "text": [
            "C:\\Users\\Kritika Rai\\anaconda3\\lib\\site-packages\\seaborn\\distributions.py:2557: FutureWarning: `distplot` is a deprecated function and will be removed in a future version. Please adapt your code to use either `displot` (a figure-level function with similar flexibility) or `histplot` (an axes-level function for histograms).\n",
            "  warnings.warn(msg, FutureWarning)\n"
          ]
        },
        {
          "data": {
            "text/plain": [
              "<AxesSubplot:xlabel='Rating', ylabel='Density'>"
            ]
          },
          "execution_count": 15,
          "metadata": {},
          "output_type": "execute_result"
        },
        {
          "data": {
            "image/png": "[encoded data removed]",
            "text/plain": [
              "<Figure size 432x288 with 1 Axes>"
            ]
          },
          "metadata": {
            "needs_background": "light"
          },
          "output_type": "display_data"
        }
      ],
      "source": [
        "sns.distplot(valid_ratings['Rating'])"
      ]
    },
    {
      "cell_type": "code",
      "execution_count": null,
      "id": "0eac78d8",
      "metadata": {
        "id": "0eac78d8",
        "outputId": "a7a601f4-5c56-4add-e280-78d562cf59c3"
      },
      "outputs": [
        {
          "data": {
            "text/plain": [
              "0    20404\n",
              "1    11396\n",
              "Name: Long Distance Delivery, dtype: int64"
            ]
          },
          "execution_count": 16,
          "metadata": {},
          "output_type": "execute_result"
        }
      ],
      "source": [
        "data[\"Long Distance Delivery\"].value_counts()"
      ]
    },
    {
      "cell_type": "code",
      "execution_count": null,
      "id": "e971a440",
      "metadata": {
        "id": "e971a440",
        "outputId": "347f6480-086e-4522-de9a-018b47947e3a"
      },
      "outputs": [
        {
          "data": {
            "image/png": "[encoded data removed]",
            "text/plain": [
              "<Figure size 432x288 with 1 Axes>"
            ]
          },
          "metadata": {},
          "output_type": "display_data"
        }
      ],
      "source": [
        "palette_color = sns.color_palette('bright')\n",
        "plt.pie(data[\"Long Distance Delivery\"].value_counts(), labels=['No','Yes'], explode=[0,0.1], colors=palette_color, autopct='%.0f%%')\n",
        "plt.show()"
      ]
    },
    {
      "cell_type": "code",
      "execution_count": null,
      "id": "21314b1a",
      "metadata": {
        "id": "21314b1a"
      },
      "outputs": [],
      "source": [
        "data['Veg'] = data['Veg'].astype('str')"
      ]
    },
    {
      "cell_type": "code",
      "execution_count": null,
      "id": "5cb45e85",
      "metadata": {
        "id": "5cb45e85"
      },
      "outputs": [],
      "source": [
        "veg_nveg = data.groupby('Veg')['city'].count()\n",
        "veg_nveg = veg_nveg.reset_index()\n",
        "veg_nveg = veg_nveg.rename(columns={'city':'no_of_rest'})"
      ]
    },
    {
      "cell_type": "code",
      "execution_count": null,
      "id": "ca79ec45",
      "metadata": {
        "id": "ca79ec45",
        "outputId": "a7b7b669-e119-43b7-99b3-d95b11334dfb"
      },
      "outputs": [
        {
          "data": {
            "text/html": [
              "<div>\n",
              "<style scoped>\n",
              "    .dataframe tbody tr th:only-of-type {\n",
              "        vertical-align: middle;\n",
              "    }\n",
              "\n",
              "    .dataframe tbody tr th {\n",
              "        vertical-align: top;\n",
              "    }\n",
              "\n",
              "    .dataframe thead th {\n",
              "        text-align: right;\n",
              "    }\n",
              "</style>\n",
              "<table border=\"1\" class=\"dataframe\">\n",
              "  <thead>\n",
              "    <tr style=\"text-align: right;\">\n",
              "      <th></th>\n",
              "      <th>Veg</th>\n",
              "      <th>no_of_rest</th>\n",
              "    </tr>\n",
              "  </thead>\n",
              "  <tbody>\n",
              "    <tr>\n",
              "      <th>0</th>\n",
              "      <td>False</td>\n",
              "      <td>23051</td>\n",
              "    </tr>\n",
              "    <tr>\n",
              "      <th>1</th>\n",
              "      <td>True</td>\n",
              "      <td>8749</td>\n",
              "    </tr>\n",
              "  </tbody>\n",
              "</table>\n",
              "</div>"
            ],
            "text/plain": [
              "     Veg  no_of_rest\n",
              "0  False       23051\n",
              "1   True        8749"
            ]
          },
          "execution_count": 20,
          "metadata": {},
          "output_type": "execute_result"
        }
      ],
      "source": [
        "veg_nveg.head()"
      ]
    },
    {
      "cell_type": "code",
      "execution_count": null,
      "id": "0cba25bb",
      "metadata": {
        "id": "0cba25bb",
        "outputId": "77716b95-8b0c-4c99-ed97-98b91710bb61"
      },
      "outputs": [
        {
          "data": {
            "image/png": "[encoded data removed]",
            "text/plain": [
              "<Figure size 432x288 with 1 Axes>"
            ]
          },
          "metadata": {},
          "output_type": "display_data"
        }
      ],
      "source": [
        "\n",
        "palette_color = sns.color_palette('deep')\n",
        "plt.pie(veg_nveg['no_of_rest'], labels=['Non-veg','Veg'], explode=[0,0.1], colors=palette_color, autopct='%.0f%%')\n",
        "plt.show()"
      ]
    },
    {
      "cell_type": "code",
      "execution_count": null,
      "id": "4cc64b62",
      "metadata": {
        "id": "4cc64b62"
      },
      "outputs": [],
      "source": []
    },
    {
      "cell_type": "code",
      "execution_count": null,
      "id": "217f07ef",
      "metadata": {
        "id": "217f07ef"
      },
      "outputs": [],
      "source": [
        "top_10_cities = data.groupby('city')['Area'].count().sort_values(ascending=False).head(10)\n",
        "top_10_cities = top_10_cities.reset_index()\n",
        "top_10_cities = top_10_cities.rename(columns={'Area':'Restaurants listed'})\n"
      ]
    },
    {
      "cell_type": "code",
      "execution_count": null,
      "id": "830c81f2",
      "metadata": {
        "id": "830c81f2",
        "outputId": "d9262b04-cd2a-4cef-e52f-2c4376f76b94"
      },
      "outputs": [
        {
          "data": {
            "text/html": [
              "<div>\n",
              "<style scoped>\n",
              "    .dataframe tbody tr th:only-of-type {\n",
              "        vertical-align: middle;\n",
              "    }\n",
              "\n",
              "    .dataframe tbody tr th {\n",
              "        vertical-align: top;\n",
              "    }\n",
              "\n",
              "    .dataframe thead th {\n",
              "        text-align: right;\n",
              "    }\n",
              "</style>\n",
              "<table border=\"1\" class=\"dataframe\">\n",
              "  <thead>\n",
              "    <tr style=\"text-align: right;\">\n",
              "      <th></th>\n",
              "      <th>city</th>\n",
              "      <th>Restaurants listed</th>\n",
              "    </tr>\n",
              "  </thead>\n",
              "  <tbody>\n",
              "    <tr>\n",
              "      <th>0</th>\n",
              "      <td>Ghaziabad</td>\n",
              "      <td>1556</td>\n",
              "    </tr>\n",
              "    <tr>\n",
              "      <th>1</th>\n",
              "      <td>Kolkata</td>\n",
              "      <td>1527</td>\n",
              "    </tr>\n",
              "    <tr>\n",
              "      <th>2</th>\n",
              "      <td>Pune</td>\n",
              "      <td>1492</td>\n",
              "    </tr>\n",
              "    <tr>\n",
              "      <th>3</th>\n",
              "      <td>Delhi</td>\n",
              "      <td>1424</td>\n",
              "    </tr>\n",
              "    <tr>\n",
              "      <th>4</th>\n",
              "      <td>Lucknow</td>\n",
              "      <td>1232</td>\n",
              "    </tr>\n",
              "    <tr>\n",
              "      <th>5</th>\n",
              "      <td>Ahmedabad</td>\n",
              "      <td>1163</td>\n",
              "    </tr>\n",
              "    <tr>\n",
              "      <th>6</th>\n",
              "      <td>Mumbai</td>\n",
              "      <td>1146</td>\n",
              "    </tr>\n",
              "    <tr>\n",
              "      <th>7</th>\n",
              "      <td>Hyderabad</td>\n",
              "      <td>1112</td>\n",
              "    </tr>\n",
              "    <tr>\n",
              "      <th>8</th>\n",
              "      <td>Indore</td>\n",
              "      <td>1089</td>\n",
              "    </tr>\n",
              "    <tr>\n",
              "      <th>9</th>\n",
              "      <td>Nagpur</td>\n",
              "      <td>1031</td>\n",
              "    </tr>\n",
              "  </tbody>\n",
              "</table>\n",
              "</div>"
            ],
            "text/plain": [
              "        city  Restaurants listed\n",
              "0  Ghaziabad                1556\n",
              "1    Kolkata                1527\n",
              "2       Pune                1492\n",
              "3      Delhi                1424\n",
              "4    Lucknow                1232\n",
              "5  Ahmedabad                1163\n",
              "6     Mumbai                1146\n",
              "7  Hyderabad                1112\n",
              "8     Indore                1089\n",
              "9     Nagpur                1031"
            ]
          },
          "execution_count": 23,
          "metadata": {},
          "output_type": "execute_result"
        }
      ],
      "source": [
        "top_10_cities.head(10)"
      ]
    },
    {
      "cell_type": "code",
      "execution_count": null,
      "id": "32101429",
      "metadata": {
        "id": "32101429",
        "outputId": "e8228a70-620e-486a-e183-c2200c12e4fc"
      },
      "outputs": [
        {
          "name": "stderr",
          "output_type": "stream",
          "text": [
            "C:\\Users\\Kritika Rai\\anaconda3\\lib\\site-packages\\seaborn\\_decorators.py:36: FutureWarning: Pass the following variables as keyword args: x, y. From version 0.12, the only valid positional argument will be `data`, and passing other arguments without an explicit keyword will result in an error or misinterpretation.\n",
            "  warnings.warn(\n"
          ]
        },
        {
          "data": {
            "text/plain": [
              "(array([0, 1, 2, 3, 4, 5, 6, 7, 8, 9]),\n",
              " [Text(0, 0, 'Ghaziabad'),\n",
              "  Text(1, 0, 'Kolkata'),\n",
              "  Text(2, 0, 'Pune'),\n",
              "  Text(3, 0, 'Delhi'),\n",
              "  Text(4, 0, 'Lucknow'),\n",
              "  Text(5, 0, 'Ahmedabad'),\n",
              "  Text(6, 0, 'Mumbai'),\n",
              "  Text(7, 0, 'Hyderabad'),\n",
              "  Text(8, 0, 'Indore'),\n",
              "  Text(9, 0, 'Nagpur')])"
            ]
          },
          "execution_count": 24,
          "metadata": {},
          "output_type": "execute_result"
        },
        {
          "data": {
            "image/png": "[encoded data removed]",
            "text/plain": [
              "<Figure size 576x432 with 1 Axes>"
            ]
          },
          "metadata": {
            "needs_background": "light"
          },
          "output_type": "display_data"
        }
      ],
      "source": [
        "plt.figure(figsize=(8,6))\n",
        "sns.barplot('city','Restaurants listed',data=top_10_cities)\n",
        "plt.xticks(rotation=90)"
      ]
    },
    {
      "cell_type": "code",
      "execution_count": null,
      "id": "2c7e33ad",
      "metadata": {
        "id": "2c7e33ad",
        "outputId": "60f3f412-2fe9-4aab-ffa8-a214c7769181"
      },
      "outputs": [
        {
          "data": {
            "image/png": "[encoded data removed]",
            "text/plain": [
              "<Figure size 432x288 with 1 Axes>"
            ]
          },
          "metadata": {
            "needs_background": "light"
          },
          "output_type": "display_data"
        }
      ],
      "source": [
        "data2=data['Category'].value_counts()[0:20].plot.bar() # top 20 restaurants\n",
        "plt.show()"
      ]
    },
    {
      "cell_type": "code",
      "execution_count": null,
      "id": "12797aab",
      "metadata": {
        "id": "12797aab"
      },
      "outputs": [],
      "source": [
        "top_10_rated = data.groupby('city')['Rating'].agg('mean').sort_values(ascending=False).head(10)\n",
        "top_10_rated = top_10_rated.reset_index()"
      ]
    },
    {
      "cell_type": "code",
      "execution_count": null,
      "id": "aca11075",
      "metadata": {
        "id": "aca11075",
        "outputId": "21b50a80-7c3e-4602-93b0-3aada9b8f4ef"
      },
      "outputs": [
        {
          "name": "stderr",
          "output_type": "stream",
          "text": [
            "C:\\Users\\Kritika Rai\\anaconda3\\lib\\site-packages\\seaborn\\_decorators.py:36: FutureWarning: Pass the following variables as keyword args: x, y. From version 0.12, the only valid positional argument will be `data`, and passing other arguments without an explicit keyword will result in an error or misinterpretation.\n",
            "  warnings.warn(\n"
          ]
        },
        {
          "data": {
            "text/plain": [
              "(array([0, 1, 2, 3, 4, 5, 6, 7, 8, 9]),\n",
              " [Text(0, 0, 'Mysore'),\n",
              "  Text(1, 0, 'Vishakhapatnam'),\n",
              "  Text(2, 0, 'Chennai'),\n",
              "  Text(3, 0, 'Bangalore'),\n",
              "  Text(4, 0, 'Mumbai'),\n",
              "  Text(5, 0, 'Hyderabad'),\n",
              "  Text(6, 0, 'Madurai'),\n",
              "  Text(7, 0, 'Kolkata'),\n",
              "  Text(8, 0, 'Dhanbad'),\n",
              "  Text(9, 0, 'Haora')])"
            ]
          },
          "execution_count": 27,
          "metadata": {},
          "output_type": "execute_result"
        },
        {
          "data": {
            "image/png": "[encoded data removed]",
            "text/plain": [
              "<Figure size 576x432 with 1 Axes>"
            ]
          },
          "metadata": {
            "needs_background": "light"
          },
          "output_type": "display_data"
        }
      ],
      "source": [
        "plt.figure(figsize=(8,6))\n",
        "sns.barplot('city','Rating',data=top_10_rated)\n",
        "plt.xticks(rotation=90)"
      ]
    },
    {
      "cell_type": "code",
      "execution_count": null,
      "id": "5c7957d7",
      "metadata": {
        "id": "5c7957d7"
      },
      "outputs": [],
      "source": [
        "#Cities with the lowest rated restaurants\n",
        "worst_10_rated = data.groupby('city')['Rating'].agg('mean').sort_values(ascending=True).head(10)\n",
        "worst_10_rated = worst_10_rated.reset_index()"
      ]
    },
    {
      "cell_type": "code",
      "execution_count": null,
      "id": "0b3619ff",
      "metadata": {
        "id": "0b3619ff",
        "outputId": "c1b3db3e-b556-444a-e4ce-23379f8080e7"
      },
      "outputs": [
        {
          "name": "stderr",
          "output_type": "stream",
          "text": [
            "C:\\Users\\Kritika Rai\\anaconda3\\lib\\site-packages\\seaborn\\_decorators.py:36: FutureWarning: Pass the following variables as keyword args: x, y. From version 0.12, the only valid positional argument will be `data`, and passing other arguments without an explicit keyword will result in an error or misinterpretation.\n",
            "  warnings.warn(\n"
          ]
        },
        {
          "data": {
            "text/plain": [
              "(array([0, 1, 2, 3, 4, 5, 6, 7, 8, 9]),\n",
              " [Text(0, 0, 'Bhilai'),\n",
              "  Text(1, 0, 'Jaipur'),\n",
              "  Text(2, 0, 'Ghaziabad'),\n",
              "  Text(3, 0, 'Raipur'),\n",
              "  Text(4, 0, 'Faridabad'),\n",
              "  Text(5, 0, 'Amritsar'),\n",
              "  Text(6, 0, 'Agra'),\n",
              "  Text(7, 0, 'Jabalpur'),\n",
              "  Text(8, 0, 'Indore'),\n",
              "  Text(9, 0, 'Chinchvad')])"
            ]
          },
          "execution_count": 29,
          "metadata": {},
          "output_type": "execute_result"
        },
        {
          "data": {
            "image/png": "[encoded data removed]",
            "text/plain": [
              "<Figure size 576x432 with 1 Axes>"
            ]
          },
          "metadata": {
            "needs_background": "light"
          },
          "output_type": "display_data"
        }
      ],
      "source": [
        "plt.figure(figsize=(8,6))\n",
        "sns.barplot('city','Rating',data=worst_10_rated)\n",
        "plt.xticks(rotation=90)"
      ]
    },
    {
      "cell_type": "code",
      "execution_count": null,
      "id": "fdadb8ee",
      "metadata": {
        "id": "fdadb8ee",
        "outputId": "f60c46da-e765-4948-b850-76e0a7a43f37"
      },
      "outputs": [
        {
          "data": {
            "text/plain": [
              "Restaurant Name            city     \n",
              "White Cub                  Faridabad    5.0\n",
              "Chenab Kitchen             Surat        5.0\n",
              "HRX by Eatfit              Mumbai       5.0\n",
              "                           Delhi        5.0\n",
              "Cheesecakes By CakeZone    Hyderabad    5.0\n",
              "Wraps and Rolls            Thane        5.0\n",
              "Pings Cafe Orient          Mumbai       5.0\n",
              "The Momo Co                Ghaziabad    5.0\n",
              "Cake of the Day (Iyengar)  Mumbai       5.0\n",
              "Rolls & Bowls Company      Ghaziabad    5.0\n",
              "Name: Rating, dtype: float64"
            ]
          },
          "execution_count": 30,
          "metadata": {},
          "output_type": "execute_result"
        }
      ],
      "source": [
        "data.groupby(['Restaurant Name','city'])['Rating'].agg('mean').sort_values(ascending=False).head(10)\n"
      ]
    },
    {
      "cell_type": "code",
      "execution_count": null,
      "id": "f08d5c76",
      "metadata": {
        "id": "f08d5c76",
        "outputId": "2383f4e3-e057-4ad9-d47f-a5ef8411b8ae"
      },
      "outputs": [
        {
          "data": {
            "text/plain": [
              "Restaurant Name                   city     \n",
              "Cake juction                      Bhiwandi     1.1\n",
              "                                  Kalyan       1.1\n",
              "Champaran Mutton Hundy & Biryani  Varanasi     1.2\n",
              "Hungry Dragon                     Agra         1.3\n",
              "Hyderabadi Dum Biryani House      Varanasi     1.3\n",
              "Eat no                            Allahabad    1.3\n",
              "Kurry Kingdom                     Cawnpore     1.5\n",
              "Get Noods                         Raipur       1.5\n",
              "ROLLS MOON                        Nagpur       1.5\n",
              "The Chopstixx                     Thane        1.5\n",
              "Name: Rating, dtype: float64"
            ]
          },
          "execution_count": 31,
          "metadata": {},
          "output_type": "execute_result"
        }
      ],
      "source": [
        "data3=data[data['Rating']>0]\n",
        "data3.groupby(['Restaurant Name','city'])['Rating'].agg('mean').sort_values(ascending=True).head(10)"
      ]
    },
    {
      "cell_type": "code",
      "execution_count": null,
      "id": "b74ddb1d",
      "metadata": {
        "id": "b74ddb1d"
      },
      "outputs": [],
      "source": []
    },
    {
      "cell_type": "code",
      "execution_count": null,
      "id": "67e6e36e",
      "metadata": {
        "id": "67e6e36e",
        "outputId": "596521e2-a20b-4e6d-a283-eb7c3e90accb"
      },
      "outputs": [
        {
          "data": {
            "text/plain": [
              "(0, 9)"
            ]
          },
          "execution_count": 32,
          "metadata": {},
          "output_type": "execute_result"
        }
      ],
      "source": [
        "veg = data[data['Veg'] == True]\n",
        "nveg = data[data['Veg'] == False]\n",
        "veg.shape"
      ]
    },
    {
      "cell_type": "code",
      "execution_count": null,
      "id": "624e3441",
      "metadata": {
        "id": "624e3441",
        "outputId": "43f187cd-1808-4875-b596-5e785fe1e8db"
      },
      "outputs": [
        {
          "data": {
            "text/html": [
              "<div>\n",
              "<style scoped>\n",
              "    .dataframe tbody tr th:only-of-type {\n",
              "        vertical-align: middle;\n",
              "    }\n",
              "\n",
              "    .dataframe tbody tr th {\n",
              "        vertical-align: top;\n",
              "    }\n",
              "\n",
              "    .dataframe thead th {\n",
              "        text-align: right;\n",
              "    }\n",
              "</style>\n",
              "<table border=\"1\" class=\"dataframe\">\n",
              "  <thead>\n",
              "    <tr style=\"text-align: right;\">\n",
              "      <th></th>\n",
              "      <th>city</th>\n",
              "      <th>Rating</th>\n",
              "    </tr>\n",
              "  </thead>\n",
              "  <tbody>\n",
              "  </tbody>\n",
              "</table>\n",
              "</div>"
            ],
            "text/plain": [
              "Empty DataFrame\n",
              "Columns: [city, Rating]\n",
              "Index: []"
            ]
          },
          "execution_count": 33,
          "metadata": {},
          "output_type": "execute_result"
        }
      ],
      "source": [
        "top_10_veg = veg.groupby('city')['Rating'].agg('mean').sort_values(ascending=False).head(10)\n",
        "top_10_veg = top_10_veg.reset_index()\n",
        "top_10_veg"
      ]
    },
    {
      "cell_type": "code",
      "execution_count": null,
      "id": "832cf7bc",
      "metadata": {
        "id": "832cf7bc",
        "outputId": "2d792a93-c920-445e-8165-4b918830c990"
      },
      "outputs": [
        {
          "name": "stderr",
          "output_type": "stream",
          "text": [
            "C:\\Users\\Kritika Rai\\anaconda3\\lib\\site-packages\\seaborn\\_decorators.py:36: FutureWarning: Pass the following variables as keyword args: x, y. From version 0.12, the only valid positional argument will be `data`, and passing other arguments without an explicit keyword will result in an error or misinterpretation.\n",
            "  warnings.warn(\n"
          ]
        },
        {
          "ename": "ValueError",
          "evalue": "min() arg is an empty sequence",
          "output_type": "error",
          "traceback": [
            "\u001b[1;31m---------------------------------------------------------------------------\u001b[0m",
            "\u001b[1;31mValueError\u001b[0m                                Traceback (most recent call last)",
            "\u001b[1;32m<ipython-input-34-6dbf8a49d1bc>\u001b[0m in \u001b[0;36m<module>\u001b[1;34m\u001b[0m\n\u001b[0;32m      1\u001b[0m \u001b[0mplt\u001b[0m\u001b[1;33m.\u001b[0m\u001b[0mfigure\u001b[0m\u001b[1;33m(\u001b[0m\u001b[0mfigsize\u001b[0m\u001b[1;33m=\u001b[0m\u001b[1;33m(\u001b[0m\u001b[1;36m8\u001b[0m\u001b[1;33m,\u001b[0m\u001b[1;36m6\u001b[0m\u001b[1;33m)\u001b[0m\u001b[1;33m)\u001b[0m\u001b[1;33m\u001b[0m\u001b[1;33m\u001b[0m\u001b[0m\n\u001b[1;32m----> 2\u001b[1;33m \u001b[0msns\u001b[0m\u001b[1;33m.\u001b[0m\u001b[0mbarplot\u001b[0m\u001b[1;33m(\u001b[0m\u001b[1;34m'city'\u001b[0m\u001b[1;33m,\u001b[0m\u001b[1;34m'Rating'\u001b[0m\u001b[1;33m,\u001b[0m\u001b[0mdata\u001b[0m\u001b[1;33m=\u001b[0m\u001b[0mtop_10_veg\u001b[0m\u001b[1;33m)\u001b[0m\u001b[1;33m\u001b[0m\u001b[1;33m\u001b[0m\u001b[0m\n\u001b[0m\u001b[0;32m      3\u001b[0m \u001b[0mplt\u001b[0m\u001b[1;33m.\u001b[0m\u001b[0mxticks\u001b[0m\u001b[1;33m(\u001b[0m\u001b[0mrotation\u001b[0m\u001b[1;33m=\u001b[0m\u001b[1;36m90\u001b[0m\u001b[1;33m)\u001b[0m\u001b[1;33m\u001b[0m\u001b[1;33m\u001b[0m\u001b[0m\n",
            "\u001b[1;32m~\\anaconda3\\lib\\site-packages\\seaborn\\_decorators.py\u001b[0m in \u001b[0;36minner_f\u001b[1;34m(*args, **kwargs)\u001b[0m\n\u001b[0;32m     44\u001b[0m             )\n\u001b[0;32m     45\u001b[0m         \u001b[0mkwargs\u001b[0m\u001b[1;33m.\u001b[0m\u001b[0mupdate\u001b[0m\u001b[1;33m(\u001b[0m\u001b[1;33m{\u001b[0m\u001b[0mk\u001b[0m\u001b[1;33m:\u001b[0m \u001b[0marg\u001b[0m \u001b[1;32mfor\u001b[0m \u001b[0mk\u001b[0m\u001b[1;33m,\u001b[0m \u001b[0marg\u001b[0m \u001b[1;32min\u001b[0m \u001b[0mzip\u001b[0m\u001b[1;33m(\u001b[0m\u001b[0msig\u001b[0m\u001b[1;33m.\u001b[0m\u001b[0mparameters\u001b[0m\u001b[1;33m,\u001b[0m \u001b[0margs\u001b[0m\u001b[1;33m)\u001b[0m\u001b[1;33m}\u001b[0m\u001b[1;33m)\u001b[0m\u001b[1;33m\u001b[0m\u001b[1;33m\u001b[0m\u001b[0m\n\u001b[1;32m---> 46\u001b[1;33m         \u001b[1;32mreturn\u001b[0m \u001b[0mf\u001b[0m\u001b[1;33m(\u001b[0m\u001b[1;33m**\u001b[0m\u001b[0mkwargs\u001b[0m\u001b[1;33m)\u001b[0m\u001b[1;33m\u001b[0m\u001b[1;33m\u001b[0m\u001b[0m\n\u001b[0m\u001b[0;32m     47\u001b[0m     \u001b[1;32mreturn\u001b[0m \u001b[0minner_f\u001b[0m\u001b[1;33m\u001b[0m\u001b[1;33m\u001b[0m\u001b[0m\n\u001b[0;32m     48\u001b[0m \u001b[1;33m\u001b[0m\u001b[0m\n",
            "\u001b[1;32m~\\anaconda3\\lib\\site-packages\\seaborn\\categorical.py\u001b[0m in \u001b[0;36mbarplot\u001b[1;34m(x, y, hue, data, order, hue_order, estimator, ci, n_boot, units, seed, orient, color, palette, saturation, errcolor, errwidth, capsize, dodge, ax, **kwargs)\u001b[0m\n\u001b[0;32m   3177\u001b[0m ):\n\u001b[0;32m   3178\u001b[0m \u001b[1;33m\u001b[0m\u001b[0m\n\u001b[1;32m-> 3179\u001b[1;33m     plotter = _BarPlotter(x, y, hue, data, order, hue_order,\n\u001b[0m\u001b[0;32m   3180\u001b[0m                           \u001b[0mestimator\u001b[0m\u001b[1;33m,\u001b[0m \u001b[0mci\u001b[0m\u001b[1;33m,\u001b[0m \u001b[0mn_boot\u001b[0m\u001b[1;33m,\u001b[0m \u001b[0munits\u001b[0m\u001b[1;33m,\u001b[0m \u001b[0mseed\u001b[0m\u001b[1;33m,\u001b[0m\u001b[1;33m\u001b[0m\u001b[1;33m\u001b[0m\u001b[0m\n\u001b[0;32m   3181\u001b[0m                           \u001b[0morient\u001b[0m\u001b[1;33m,\u001b[0m \u001b[0mcolor\u001b[0m\u001b[1;33m,\u001b[0m \u001b[0mpalette\u001b[0m\u001b[1;33m,\u001b[0m \u001b[0msaturation\u001b[0m\u001b[1;33m,\u001b[0m\u001b[1;33m\u001b[0m\u001b[1;33m\u001b[0m\u001b[0m\n",
            "\u001b[1;32m~\\anaconda3\\lib\\site-packages\\seaborn\\categorical.py\u001b[0m in \u001b[0;36m__init__\u001b[1;34m(self, x, y, hue, data, order, hue_order, estimator, ci, n_boot, units, seed, orient, color, palette, saturation, errcolor, errwidth, capsize, dodge)\u001b[0m\n\u001b[0;32m   1584\u001b[0m         self.establish_variables(x, y, hue, data, orient,\n\u001b[0;32m   1585\u001b[0m                                  order, hue_order, units)\n\u001b[1;32m-> 1586\u001b[1;33m         \u001b[0mself\u001b[0m\u001b[1;33m.\u001b[0m\u001b[0mestablish_colors\u001b[0m\u001b[1;33m(\u001b[0m\u001b[0mcolor\u001b[0m\u001b[1;33m,\u001b[0m \u001b[0mpalette\u001b[0m\u001b[1;33m,\u001b[0m \u001b[0msaturation\u001b[0m\u001b[1;33m)\u001b[0m\u001b[1;33m\u001b[0m\u001b[1;33m\u001b[0m\u001b[0m\n\u001b[0m\u001b[0;32m   1587\u001b[0m         \u001b[0mself\u001b[0m\u001b[1;33m.\u001b[0m\u001b[0mestimate_statistic\u001b[0m\u001b[1;33m(\u001b[0m\u001b[0mestimator\u001b[0m\u001b[1;33m,\u001b[0m \u001b[0mci\u001b[0m\u001b[1;33m,\u001b[0m \u001b[0mn_boot\u001b[0m\u001b[1;33m,\u001b[0m \u001b[0mseed\u001b[0m\u001b[1;33m)\u001b[0m\u001b[1;33m\u001b[0m\u001b[1;33m\u001b[0m\u001b[0m\n\u001b[0;32m   1588\u001b[0m \u001b[1;33m\u001b[0m\u001b[0m\n",
            "\u001b[1;32m~\\anaconda3\\lib\\site-packages\\seaborn\\categorical.py\u001b[0m in \u001b[0;36mestablish_colors\u001b[1;34m(self, color, palette, saturation)\u001b[0m\n\u001b[0;32m    317\u001b[0m         \u001b[1;31m# Determine the gray color to use for the lines framing the plot\u001b[0m\u001b[1;33m\u001b[0m\u001b[1;33m\u001b[0m\u001b[1;33m\u001b[0m\u001b[0m\n\u001b[0;32m    318\u001b[0m         \u001b[0mlight_vals\u001b[0m \u001b[1;33m=\u001b[0m \u001b[1;33m[\u001b[0m\u001b[0mcolorsys\u001b[0m\u001b[1;33m.\u001b[0m\u001b[0mrgb_to_hls\u001b[0m\u001b[1;33m(\u001b[0m\u001b[1;33m*\u001b[0m\u001b[0mc\u001b[0m\u001b[1;33m)\u001b[0m\u001b[1;33m[\u001b[0m\u001b[1;36m1\u001b[0m\u001b[1;33m]\u001b[0m \u001b[1;32mfor\u001b[0m \u001b[0mc\u001b[0m \u001b[1;32min\u001b[0m \u001b[0mrgb_colors\u001b[0m\u001b[1;33m]\u001b[0m\u001b[1;33m\u001b[0m\u001b[1;33m\u001b[0m\u001b[0m\n\u001b[1;32m--> 319\u001b[1;33m         \u001b[0mlum\u001b[0m \u001b[1;33m=\u001b[0m \u001b[0mmin\u001b[0m\u001b[1;33m(\u001b[0m\u001b[0mlight_vals\u001b[0m\u001b[1;33m)\u001b[0m \u001b[1;33m*\u001b[0m \u001b[1;36m.6\u001b[0m\u001b[1;33m\u001b[0m\u001b[1;33m\u001b[0m\u001b[0m\n\u001b[0m\u001b[0;32m    320\u001b[0m         \u001b[0mgray\u001b[0m \u001b[1;33m=\u001b[0m \u001b[0mmpl\u001b[0m\u001b[1;33m.\u001b[0m\u001b[0mcolors\u001b[0m\u001b[1;33m.\u001b[0m\u001b[0mrgb2hex\u001b[0m\u001b[1;33m(\u001b[0m\u001b[1;33m(\u001b[0m\u001b[0mlum\u001b[0m\u001b[1;33m,\u001b[0m \u001b[0mlum\u001b[0m\u001b[1;33m,\u001b[0m \u001b[0mlum\u001b[0m\u001b[1;33m)\u001b[0m\u001b[1;33m)\u001b[0m\u001b[1;33m\u001b[0m\u001b[1;33m\u001b[0m\u001b[0m\n\u001b[0;32m    321\u001b[0m \u001b[1;33m\u001b[0m\u001b[0m\n",
            "\u001b[1;31mValueError\u001b[0m: min() arg is an empty sequence"
          ]
        },
        {
          "data": {
            "text/plain": [
              "<Figure size 576x432 with 0 Axes>"
            ]
          },
          "metadata": {},
          "output_type": "display_data"
        }
      ],
      "source": [
        "plt.figure(figsize=(8,6))\n",
        "sns.barplot('city','Rating',data=top_10_veg)\n",
        "plt.xticks(rotation=90)"
      ]
    },
    {
      "cell_type": "code",
      "execution_count": null,
      "id": "5422dc15",
      "metadata": {
        "id": "5422dc15",
        "outputId": "048e0cb1-ae4c-47f9-b3ed-d40d66f31cb7"
      },
      "outputs": [
        {
          "data": {
            "text/html": [
              "<div>\n",
              "<style scoped>\n",
              "    .dataframe tbody tr th:only-of-type {\n",
              "        vertical-align: middle;\n",
              "    }\n",
              "\n",
              "    .dataframe tbody tr th {\n",
              "        vertical-align: top;\n",
              "    }\n",
              "\n",
              "    .dataframe thead th {\n",
              "        text-align: right;\n",
              "    }\n",
              "</style>\n",
              "<table border=\"1\" class=\"dataframe\">\n",
              "  <thead>\n",
              "    <tr style=\"text-align: right;\">\n",
              "      <th></th>\n",
              "      <th>city</th>\n",
              "      <th>Rating</th>\n",
              "    </tr>\n",
              "  </thead>\n",
              "  <tbody>\n",
              "  </tbody>\n",
              "</table>\n",
              "</div>"
            ],
            "text/plain": [
              "Empty DataFrame\n",
              "Columns: [city, Rating]\n",
              "Index: []"
            ]
          },
          "execution_count": 35,
          "metadata": {},
          "output_type": "execute_result"
        }
      ],
      "source": [
        "top_10_nveg = nveg.groupby('city')['Rating'].agg('mean').sort_values(ascending=False).head(10)\n",
        "top_10_nveg = top_10_nveg.reset_index()\n",
        "top_10_nveg"
      ]
    },
    {
      "cell_type": "code",
      "execution_count": null,
      "id": "e3b41743",
      "metadata": {
        "id": "e3b41743",
        "outputId": "8b7f8196-fb4a-4d27-acbb-dd67c448e3e4"
      },
      "outputs": [
        {
          "name": "stderr",
          "output_type": "stream",
          "text": [
            "C:\\Users\\Kritika Rai\\anaconda3\\lib\\site-packages\\seaborn\\_decorators.py:36: FutureWarning: Pass the following variables as keyword args: x, y. From version 0.12, the only valid positional argument will be `data`, and passing other arguments without an explicit keyword will result in an error or misinterpretation.\n",
            "  warnings.warn(\n"
          ]
        },
        {
          "ename": "ValueError",
          "evalue": "min() arg is an empty sequence",
          "output_type": "error",
          "traceback": [
            "\u001b[1;31m---------------------------------------------------------------------------\u001b[0m",
            "\u001b[1;31mValueError\u001b[0m                                Traceback (most recent call last)",
            "\u001b[1;32m<ipython-input-36-9081590e7cef>\u001b[0m in \u001b[0;36m<module>\u001b[1;34m\u001b[0m\n\u001b[0;32m      1\u001b[0m \u001b[0mplt\u001b[0m\u001b[1;33m.\u001b[0m\u001b[0mfigure\u001b[0m\u001b[1;33m(\u001b[0m\u001b[0mfigsize\u001b[0m\u001b[1;33m=\u001b[0m\u001b[1;33m(\u001b[0m\u001b[1;36m8\u001b[0m\u001b[1;33m,\u001b[0m\u001b[1;36m6\u001b[0m\u001b[1;33m)\u001b[0m\u001b[1;33m)\u001b[0m\u001b[1;33m\u001b[0m\u001b[1;33m\u001b[0m\u001b[0m\n\u001b[1;32m----> 2\u001b[1;33m \u001b[0msns\u001b[0m\u001b[1;33m.\u001b[0m\u001b[0mbarplot\u001b[0m\u001b[1;33m(\u001b[0m\u001b[1;34m'city'\u001b[0m\u001b[1;33m,\u001b[0m\u001b[1;34m'Rating'\u001b[0m\u001b[1;33m,\u001b[0m\u001b[0mdata\u001b[0m\u001b[1;33m=\u001b[0m\u001b[0mtop_10_nveg\u001b[0m\u001b[1;33m)\u001b[0m\u001b[1;33m\u001b[0m\u001b[1;33m\u001b[0m\u001b[0m\n\u001b[0m\u001b[0;32m      3\u001b[0m \u001b[0mplt\u001b[0m\u001b[1;33m.\u001b[0m\u001b[0mxticks\u001b[0m\u001b[1;33m(\u001b[0m\u001b[0mrotation\u001b[0m\u001b[1;33m=\u001b[0m\u001b[1;36m90\u001b[0m\u001b[1;33m)\u001b[0m\u001b[1;33m\u001b[0m\u001b[1;33m\u001b[0m\u001b[0m\n",
            "\u001b[1;32m~\\anaconda3\\lib\\site-packages\\seaborn\\_decorators.py\u001b[0m in \u001b[0;36minner_f\u001b[1;34m(*args, **kwargs)\u001b[0m\n\u001b[0;32m     44\u001b[0m             )\n\u001b[0;32m     45\u001b[0m         \u001b[0mkwargs\u001b[0m\u001b[1;33m.\u001b[0m\u001b[0mupdate\u001b[0m\u001b[1;33m(\u001b[0m\u001b[1;33m{\u001b[0m\u001b[0mk\u001b[0m\u001b[1;33m:\u001b[0m \u001b[0marg\u001b[0m \u001b[1;32mfor\u001b[0m \u001b[0mk\u001b[0m\u001b[1;33m,\u001b[0m \u001b[0marg\u001b[0m \u001b[1;32min\u001b[0m \u001b[0mzip\u001b[0m\u001b[1;33m(\u001b[0m\u001b[0msig\u001b[0m\u001b[1;33m.\u001b[0m\u001b[0mparameters\u001b[0m\u001b[1;33m,\u001b[0m \u001b[0margs\u001b[0m\u001b[1;33m)\u001b[0m\u001b[1;33m}\u001b[0m\u001b[1;33m)\u001b[0m\u001b[1;33m\u001b[0m\u001b[1;33m\u001b[0m\u001b[0m\n\u001b[1;32m---> 46\u001b[1;33m         \u001b[1;32mreturn\u001b[0m \u001b[0mf\u001b[0m\u001b[1;33m(\u001b[0m\u001b[1;33m**\u001b[0m\u001b[0mkwargs\u001b[0m\u001b[1;33m)\u001b[0m\u001b[1;33m\u001b[0m\u001b[1;33m\u001b[0m\u001b[0m\n\u001b[0m\u001b[0;32m     47\u001b[0m     \u001b[1;32mreturn\u001b[0m \u001b[0minner_f\u001b[0m\u001b[1;33m\u001b[0m\u001b[1;33m\u001b[0m\u001b[0m\n\u001b[0;32m     48\u001b[0m \u001b[1;33m\u001b[0m\u001b[0m\n",
            "\u001b[1;32m~\\anaconda3\\lib\\site-packages\\seaborn\\categorical.py\u001b[0m in \u001b[0;36mbarplot\u001b[1;34m(x, y, hue, data, order, hue_order, estimator, ci, n_boot, units, seed, orient, color, palette, saturation, errcolor, errwidth, capsize, dodge, ax, **kwargs)\u001b[0m\n\u001b[0;32m   3177\u001b[0m ):\n\u001b[0;32m   3178\u001b[0m \u001b[1;33m\u001b[0m\u001b[0m\n\u001b[1;32m-> 3179\u001b[1;33m     plotter = _BarPlotter(x, y, hue, data, order, hue_order,\n\u001b[0m\u001b[0;32m   3180\u001b[0m                           \u001b[0mestimator\u001b[0m\u001b[1;33m,\u001b[0m \u001b[0mci\u001b[0m\u001b[1;33m,\u001b[0m \u001b[0mn_boot\u001b[0m\u001b[1;33m,\u001b[0m \u001b[0munits\u001b[0m\u001b[1;33m,\u001b[0m \u001b[0mseed\u001b[0m\u001b[1;33m,\u001b[0m\u001b[1;33m\u001b[0m\u001b[1;33m\u001b[0m\u001b[0m\n\u001b[0;32m   3181\u001b[0m                           \u001b[0morient\u001b[0m\u001b[1;33m,\u001b[0m \u001b[0mcolor\u001b[0m\u001b[1;33m,\u001b[0m \u001b[0mpalette\u001b[0m\u001b[1;33m,\u001b[0m \u001b[0msaturation\u001b[0m\u001b[1;33m,\u001b[0m\u001b[1;33m\u001b[0m\u001b[1;33m\u001b[0m\u001b[0m\n",
            "\u001b[1;32m~\\anaconda3\\lib\\site-packages\\seaborn\\categorical.py\u001b[0m in \u001b[0;36m__init__\u001b[1;34m(self, x, y, hue, data, order, hue_order, estimator, ci, n_boot, units, seed, orient, color, palette, saturation, errcolor, errwidth, capsize, dodge)\u001b[0m\n\u001b[0;32m   1584\u001b[0m         self.establish_variables(x, y, hue, data, orient,\n\u001b[0;32m   1585\u001b[0m                                  order, hue_order, units)\n\u001b[1;32m-> 1586\u001b[1;33m         \u001b[0mself\u001b[0m\u001b[1;33m.\u001b[0m\u001b[0mestablish_colors\u001b[0m\u001b[1;33m(\u001b[0m\u001b[0mcolor\u001b[0m\u001b[1;33m,\u001b[0m \u001b[0mpalette\u001b[0m\u001b[1;33m,\u001b[0m \u001b[0msaturation\u001b[0m\u001b[1;33m)\u001b[0m\u001b[1;33m\u001b[0m\u001b[1;33m\u001b[0m\u001b[0m\n\u001b[0m\u001b[0;32m   1587\u001b[0m         \u001b[0mself\u001b[0m\u001b[1;33m.\u001b[0m\u001b[0mestimate_statistic\u001b[0m\u001b[1;33m(\u001b[0m\u001b[0mestimator\u001b[0m\u001b[1;33m,\u001b[0m \u001b[0mci\u001b[0m\u001b[1;33m,\u001b[0m \u001b[0mn_boot\u001b[0m\u001b[1;33m,\u001b[0m \u001b[0mseed\u001b[0m\u001b[1;33m)\u001b[0m\u001b[1;33m\u001b[0m\u001b[1;33m\u001b[0m\u001b[0m\n\u001b[0;32m   1588\u001b[0m \u001b[1;33m\u001b[0m\u001b[0m\n",
            "\u001b[1;32m~\\anaconda3\\lib\\site-packages\\seaborn\\categorical.py\u001b[0m in \u001b[0;36mestablish_colors\u001b[1;34m(self, color, palette, saturation)\u001b[0m\n\u001b[0;32m    317\u001b[0m         \u001b[1;31m# Determine the gray color to use for the lines framing the plot\u001b[0m\u001b[1;33m\u001b[0m\u001b[1;33m\u001b[0m\u001b[1;33m\u001b[0m\u001b[0m\n\u001b[0;32m    318\u001b[0m         \u001b[0mlight_vals\u001b[0m \u001b[1;33m=\u001b[0m \u001b[1;33m[\u001b[0m\u001b[0mcolorsys\u001b[0m\u001b[1;33m.\u001b[0m\u001b[0mrgb_to_hls\u001b[0m\u001b[1;33m(\u001b[0m\u001b[1;33m*\u001b[0m\u001b[0mc\u001b[0m\u001b[1;33m)\u001b[0m\u001b[1;33m[\u001b[0m\u001b[1;36m1\u001b[0m\u001b[1;33m]\u001b[0m \u001b[1;32mfor\u001b[0m \u001b[0mc\u001b[0m \u001b[1;32min\u001b[0m \u001b[0mrgb_colors\u001b[0m\u001b[1;33m]\u001b[0m\u001b[1;33m\u001b[0m\u001b[1;33m\u001b[0m\u001b[0m\n\u001b[1;32m--> 319\u001b[1;33m         \u001b[0mlum\u001b[0m \u001b[1;33m=\u001b[0m \u001b[0mmin\u001b[0m\u001b[1;33m(\u001b[0m\u001b[0mlight_vals\u001b[0m\u001b[1;33m)\u001b[0m \u001b[1;33m*\u001b[0m \u001b[1;36m.6\u001b[0m\u001b[1;33m\u001b[0m\u001b[1;33m\u001b[0m\u001b[0m\n\u001b[0m\u001b[0;32m    320\u001b[0m         \u001b[0mgray\u001b[0m \u001b[1;33m=\u001b[0m \u001b[0mmpl\u001b[0m\u001b[1;33m.\u001b[0m\u001b[0mcolors\u001b[0m\u001b[1;33m.\u001b[0m\u001b[0mrgb2hex\u001b[0m\u001b[1;33m(\u001b[0m\u001b[1;33m(\u001b[0m\u001b[0mlum\u001b[0m\u001b[1;33m,\u001b[0m \u001b[0mlum\u001b[0m\u001b[1;33m,\u001b[0m \u001b[0mlum\u001b[0m\u001b[1;33m)\u001b[0m\u001b[1;33m)\u001b[0m\u001b[1;33m\u001b[0m\u001b[1;33m\u001b[0m\u001b[0m\n\u001b[0;32m    321\u001b[0m \u001b[1;33m\u001b[0m\u001b[0m\n",
            "\u001b[1;31mValueError\u001b[0m: min() arg is an empty sequence"
          ]
        },
        {
          "data": {
            "text/plain": [
              "<Figure size 576x432 with 0 Axes>"
            ]
          },
          "metadata": {},
          "output_type": "display_data"
        }
      ],
      "source": [
        "plt.figure(figsize=(8,6))\n",
        "sns.barplot('city','Rating',data=top_10_nveg)\n",
        "plt.xticks(rotation=90)"
      ]
    },
    {
      "cell_type": "code",
      "execution_count": null,
      "id": "498d6cd0",
      "metadata": {
        "id": "498d6cd0"
      },
      "outputs": [],
      "source": [
        "veg_ratings = veg.groupby(['city'])['Rating'].agg('mean')\n",
        "veg_ratings = veg_ratings.reset_index()\n",
        "nveg_ratings = nveg.groupby(['city'])['Rating'].agg('mean')\n",
        "nveg_ratings = nveg_ratings.reset_index()"
      ]
    },
    {
      "cell_type": "code",
      "execution_count": null,
      "id": "06f19d7c",
      "metadata": {
        "id": "06f19d7c"
      },
      "outputs": [],
      "source": [
        "veg_nveg = pd.merge(veg_ratings,nveg_ratings,on='city')\n",
        "veg_nveg = veg_nveg.rename(columns = {'Rating_x':'veg_rat','Rating_y':'nveg_rat'})"
      ]
    },
    {
      "cell_type": "code",
      "execution_count": null,
      "id": "db75231e",
      "metadata": {
        "id": "db75231e",
        "outputId": "709985a8-94cd-45b8-b1d3-37414d7637ad"
      },
      "outputs": [
        {
          "data": {
            "text/html": [
              "<div>\n",
              "<style scoped>\n",
              "    .dataframe tbody tr th:only-of-type {\n",
              "        vertical-align: middle;\n",
              "    }\n",
              "\n",
              "    .dataframe tbody tr th {\n",
              "        vertical-align: top;\n",
              "    }\n",
              "\n",
              "    .dataframe thead th {\n",
              "        text-align: right;\n",
              "    }\n",
              "</style>\n",
              "<table border=\"1\" class=\"dataframe\">\n",
              "  <thead>\n",
              "    <tr style=\"text-align: right;\">\n",
              "      <th></th>\n",
              "      <th>veg_rat</th>\n",
              "      <th>city</th>\n",
              "      <th>nveg_rat</th>\n",
              "    </tr>\n",
              "  </thead>\n",
              "  <tbody>\n",
              "  </tbody>\n",
              "</table>\n",
              "</div>"
            ],
            "text/plain": [
              "Empty DataFrame\n",
              "Columns: [veg_rat, city, nveg_rat]\n",
              "Index: []"
            ]
          },
          "execution_count": 39,
          "metadata": {},
          "output_type": "execute_result"
        }
      ],
      "source": [
        "veg_nveg.head(5)"
      ]
    },
    {
      "cell_type": "markdown",
      "id": "c8975ddf",
      "metadata": {
        "id": "c8975ddf"
      },
      "source": [
        "# Multivariate Analysis"
      ]
    },
    {
      "cell_type": "code",
      "execution_count": null,
      "id": "da30a0c9",
      "metadata": {
        "id": "da30a0c9",
        "outputId": "8f2c7ac3-79e8-435b-a8ec-595ba371595e"
      },
      "outputs": [
        {
          "data": {
            "text/plain": [
              "<Figure size 480x320 with 0 Axes>"
            ]
          },
          "metadata": {},
          "output_type": "display_data"
        },
        {
          "data": {
            "image/png": "[encoded data removed]",
            "text/plain": [
              "<Figure size 540x540 with 12 Axes>"
            ]
          },
          "metadata": {
            "needs_background": "light"
          },
          "output_type": "display_data"
        }
      ],
      "source": [
        "plt.figure(dpi=80) #pairplot\n",
        "sns.pairplot(data)\n",
        "plt.show()"
      ]
    },
    {
      "cell_type": "markdown",
      "id": "59ee5bd1",
      "metadata": {
        "id": "59ee5bd1"
      },
      "source": [
        "### Insights\n",
        "        * Plots of rating - Cost for two (₹) is skewed. \n",
        "        * Orders of lower cost have dens cluster of high ratings\n",
        "        * Cost for two (₹) of non-veg food is comparitively higher\n"
      ]
    },
    {
      "cell_type": "code",
      "execution_count": null,
      "id": "71279914",
      "metadata": {
        "id": "71279914",
        "outputId": "92e0301b-0f5c-451c-9b2a-160709e22819"
      },
      "outputs": [
        {
          "data": {
            "text/plain": [
              "<Figure size 3600x3600 with 0 Axes>"
            ]
          },
          "metadata": {},
          "output_type": "display_data"
        },
        {
          "data": {
            "image/png": "[encoded data removed]",
            "text/plain": [
              "<Figure size 601.25x540 with 12 Axes>"
            ]
          },
          "metadata": {
            "needs_background": "light"
          },
          "output_type": "display_data"
        }
      ],
      "source": [
        "plt.figure(figsize=(50,50)) #pairplot using veg \n",
        "sns.pairplot(data,hue = 'Veg',palette = 'plasma')\n",
        "plt.legend(['veg','non-veg'])\n",
        "plt.show()"
      ]
    },
    {
      "cell_type": "markdown",
      "id": "a4bf6044",
      "metadata": {
        "id": "a4bf6044"
      },
      "source": [
        "### Insights\n",
        "        * We can clearly see that data points are not seperable linearly\n",
        "        * Most of the long distance deliveries are non-veg dishes\n",
        "        * Non-veg food has high and freqeuent ratings\n",
        "        * And higher cost for two"
      ]
    },
    {
      "cell_type": "code",
      "execution_count": null,
      "id": "e6bf2996",
      "metadata": {
        "id": "e6bf2996",
        "outputId": "0e07f7e6-5ac6-48ef-f869-e2a83f246e94"
      },
      "outputs": [
        {
          "data": {
            "image/png": "[encoded data removed]",
            "text/plain": [
              "<Figure size 480x360 with 2 Axes>"
            ]
          },
          "metadata": {
            "needs_background": "light"
          },
          "output_type": "display_data"
        }
      ],
      "source": [
        "plt.figure(dpi = 120,figsize= (4,3))\n",
        "mask = np.triu(np.ones_like(data.corr(),dtype = bool))\n",
        "sns.heatmap(data.corr(), fmt = \".2f\",annot=True,lw=1,cmap = 'plasma')\n",
        "plt.yticks(rotation = 0)\n",
        "plt.xticks(rotation = 90)\n",
        "plt.show()"
      ]
    },
    {
      "cell_type": "markdown",
      "id": "d157a66d",
      "metadata": {
        "id": "d157a66d"
      },
      "source": [
        "### Insights\n",
        "        * Variables are not much associated linearly"
      ]
    },
    {
      "cell_type": "code",
      "execution_count": null,
      "id": "cd031f2b",
      "metadata": {
        "id": "cd031f2b",
        "outputId": "5ec42f2c-fa98-4ea1-97a5-d001861a72c6"
      },
      "outputs": [
        {
          "data": {
            "text/plain": [
              "<Figure size 500x400 with 0 Axes>"
            ]
          },
          "metadata": {},
          "output_type": "display_data"
        },
        {
          "data": {
            "image/png": "[encoded data removed]",
            "text/plain": [
              "<Figure size 432x432 with 3 Axes>"
            ]
          },
          "metadata": {
            "needs_background": "light"
          },
          "output_type": "display_data"
        }
      ],
      "source": [
        "plt.figure(dpi = 100, figsize = (5,4))\n",
        "sns.jointplot(x = \"Rating\", y = \"Cost for two (₹)\",data = data, kind='reg', color='maroon')\n",
        "plt.show()"
      ]
    },
    {
      "cell_type": "markdown",
      "id": "d016e19b",
      "metadata": {
        "id": "d016e19b"
      },
      "source": [
        "### Insights\n",
        "        * Ratings of cheap food is higher\n",
        "        * High number of null values ('0')"
      ]
    },
    {
      "cell_type": "code",
      "execution_count": null,
      "id": "48f0f0e0",
      "metadata": {
        "id": "48f0f0e0",
        "outputId": "c9b232de-e727-43c7-e2fa-4ad3fa641918"
      },
      "outputs": [
        {
          "data": {
            "image/png": "[encoded data removed]",
            "text/plain": [
              "<Figure size 432x432 with 3 Axes>"
            ]
          },
          "metadata": {
            "needs_background": "light"
          },
          "output_type": "display_data"
        }
      ],
      "source": [
        "sns.jointplot(x = \"Rating\", y = \"Long Distance Delivery\",data = data, color='violet')\n",
        "plt.show()"
      ]
    },
    {
      "cell_type": "markdown",
      "id": "ccb0d1f7",
      "metadata": {
        "id": "ccb0d1f7"
      },
      "source": [
        "### Insights\n",
        "        * No significant relation between distance and ratings"
      ]
    },
    {
      "cell_type": "code",
      "execution_count": null,
      "id": "91a7dfc3",
      "metadata": {
        "id": "91a7dfc3"
      },
      "outputs": [],
      "source": [
        "sns.jointplot(x = \"Rating\", y = \"Veg\",data = data ,color='blue')\n",
        "plt.show()"
      ]
    },
    {
      "cell_type": "markdown",
      "id": "07745877",
      "metadata": {
        "id": "07745877"
      },
      "source": [
        "### Insights\n",
        "        * Majority of orders are non-veg\n",
        "        * Rating between 3.5-4.5 mostly"
      ]
    },
    {
      "cell_type": "code",
      "execution_count": null,
      "id": "dde6706b",
      "metadata": {
        "id": "dde6706b",
        "outputId": "ecf6e028-4b7e-4e6c-e5bd-3663823b2be8",
        "colab": {
          "base_uri": "https://localhost:8080/",
          "height": 201
        }
      },
      "outputs": [
        {
          "output_type": "error",
          "ename": "NameError",
          "evalue": "ignored",
          "traceback": [
            "\u001b[0;31m---------------------------------------------------------------------------\u001b[0m",
            "\u001b[0;31mNameError\u001b[0m                                 Traceback (most recent call last)",
            "\u001b[0;32m<ipython-input-1-880e056804b5>\u001b[0m in \u001b[0;36m<module>\u001b[0;34m\u001b[0m\n\u001b[0;32m----> 1\u001b[0;31m \u001b[0mplt\u001b[0m\u001b[0;34m.\u001b[0m\u001b[0mfigure\u001b[0m\u001b[0;34m(\u001b[0m\u001b[0mfigsize\u001b[0m\u001b[0;34m=\u001b[0m\u001b[0;34m(\u001b[0m\u001b[0;36m10\u001b[0m\u001b[0;34m,\u001b[0m\u001b[0;36m20\u001b[0m\u001b[0;34m)\u001b[0m\u001b[0;34m)\u001b[0m\u001b[0;34m\u001b[0m\u001b[0;34m\u001b[0m\u001b[0m\n\u001b[0m\u001b[1;32m      2\u001b[0m \u001b[0msns\u001b[0m\u001b[0;34m.\u001b[0m\u001b[0mjointplot\u001b[0m\u001b[0;34m(\u001b[0m\u001b[0mx\u001b[0m \u001b[0;34m=\u001b[0m \u001b[0;34m\"Rating\"\u001b[0m\u001b[0;34m,\u001b[0m \u001b[0my\u001b[0m \u001b[0;34m=\u001b[0m \u001b[0;34m\"city\"\u001b[0m\u001b[0;34m,\u001b[0m\u001b[0mdata\u001b[0m \u001b[0;34m=\u001b[0m \u001b[0mdata\u001b[0m\u001b[0;34m)\u001b[0m\u001b[0;34m\u001b[0m\u001b[0;34m\u001b[0m\u001b[0m\n\u001b[1;32m      3\u001b[0m \u001b[0mplt\u001b[0m\u001b[0;34m.\u001b[0m\u001b[0mshow\u001b[0m\u001b[0;34m(\u001b[0m\u001b[0;34m)\u001b[0m\u001b[0;34m\u001b[0m\u001b[0;34m\u001b[0m\u001b[0m\n",
            "\u001b[0;31mNameError\u001b[0m: name 'plt' is not defined"
          ]
        }
      ],
      "source": [
        "plt.figure(figsize=(10,20))\n",
        "sns.jointplot(x = \"Rating\", y = \"city\",data = data)\n",
        "plt.show()"
      ]
    },
    {
      "cell_type": "markdown",
      "id": "2e87050f",
      "metadata": {
        "id": "2e87050f"
      },
      "source": [
        "### Insight\n",
        "        * Higher tier of cities such as tier-1 have higher rated restaurants\n",
        "        * Whereas tier-2 and 3 have lower ratings"
      ]
    },
    {
      "cell_type": "code",
      "execution_count": null,
      "id": "b415df4a",
      "metadata": {
        "id": "b415df4a"
      },
      "outputs": [],
      "source": []
    }
  ],
  "metadata": {
    "kernelspec": {
      "display_name": "Python 3",
      "language": "python",
      "name": "python3"
    },
    "language_info": {
      "codemirror_mode": {
        "name": "ipython",
        "version": 3
      },
      "file_extension": ".py",
      "mimetype": "text/x-python",
      "name": "python",
      "nbconvert_exporter": "python",
      "pygments_lexer": "ipython3",
      "version": "3.8.8"
    },
    "colab": {
      "provenance": [],
      "include_colab_link": true
    }
  },
  "nbformat": 4,
  "nbformat_minor": 5
}