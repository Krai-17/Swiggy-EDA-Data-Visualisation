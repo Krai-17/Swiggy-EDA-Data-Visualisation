{
  "cells": [
    {
      "cell_type": "markdown",
      "metadata": {
        "id": "view-in-github",
        "colab_type": "text"
      },
      "source": [
        "<a href=\"https://colab.research.google.com/github/Krai-17/Swiggy-EDA-Data-Visualisation/blob/main/EDA%20project.ipynb\" target=\"_parent\"><img src=\"https://colab.research.google.com/assets/colab-badge.svg\" alt=\"Open In Colab\"/></a>"
      ]
    },
    {
      "cell_type": "markdown",
      "id": "e069f5f3",
      "metadata": {
        "id": "e069f5f3"
      },
      "source": [
        "# **Swiggy dataset EDA and Analysis**"
      ]
    },
    {
      "cell_type": "markdown",
      "id": "3f74f405",
      "metadata": {
        "id": "3f74f405"
      },
      "source": [
        "#### Food delivery has become one of the prominent services adopted by the restaurant industry. The metropolitan cities are getting busier and hooked up to work so the people prefer ordering food online as they seldom find time to buy groceries and cook food. Start-up’s such as Swiggy, Zomato, Dunzo etc. are huge choice of medium for delivering food at their door steps. The food delivery is highly prevailing in the metropolitan cities. \n",
        "\n",
        "#### * Customers provide rating once the order is completed and these ratings depend on many factors such as:\n",
        "                 * quality, quantity,etc. of the food.\n",
        "                 * delivery time\n",
        "                 * Cost of food and delivery\n",
        "                 * behavior of staff\n",
        "\n",
        "#### Customer orders from the same restaurant again if the food quality is good and also from the same service provider if the delivery service is satisfying and thus creating a demand of that restaurant food and delivery service.\n",
        "#### Hence it is an important job to analyse the data and figure out ways to remove issues and improve the brand service and value.\n",
        "\n"
      ]
    },
    {
      "cell_type": "markdown",
      "id": "9c8ba5cf",
      "metadata": {
        "id": "9c8ba5cf"
      },
      "source": [
        "## **Context of datset**\n",
        "#### The dataset used in this project is sourced from kaggle. It contains Restaurants/Food Outlets in Top 50 most populous cities in India, but the list only contains 49 cities as Swiggy does not provide services in Srinagar."
      ]
    },
    {
      "cell_type": "markdown",
      "id": "916355f7",
      "metadata": {
        "id": "916355f7"
      },
      "source": [
        "## Import libraries\n",
        "#### Importing libraries required for eda and visulaisation"
      ]
    },
    {
      "cell_type": "code",
      "execution_count": null,
      "id": "e461e0c6",
      "metadata": {
        "id": "e461e0c6"
      },
      "outputs": [],
      "source": [
        "import pandas as pd\n",
        "import numpy as np\n",
        "import matplotlib.pyplot as plt\n",
        "import seaborn as sns"
      ]
    },
    {
      "cell_type": "markdown",
      "id": "c9b2388c",
      "metadata": {
        "id": "c9b2388c"
      },
      "source": [
        "## Uderstanding the data\n",
        "#### We'll start by exploring the data, its shape, size, features, types of values in rows and columns,etc to get the basic understanding of the dataset"
      ]
    },
    {
      "cell_type": "code",
      "execution_count": null,
      "id": "92cbc8b8",
      "metadata": {
        "id": "92cbc8b8"
      },
      "outputs": [],
      "source": [
        "data=pd.read_csv(r\"C:\\Users\\Kritika Rai\\Downloads\\archive (6)\\Swiggy_50.csv\")"
      ]
    },
    {
      "cell_type": "markdown",
      "id": "d56c033c",
      "metadata": {
        "id": "d56c033c"
      },
      "source": [
        "#### Creatinga copy of the original dataset to access deleted values if needed"
      ]
    },
    {
      "cell_type": "code",
      "execution_count": null,
      "id": "b7150c97",
      "metadata": {
        "id": "b7150c97"
      },
      "outputs": [],
      "source": [
        "dataset=data.copy()"
      ]
    },
    {
      "cell_type": "markdown",
      "id": "841cc5f7",
      "metadata": {
        "id": "841cc5f7"
      },
      "source": [
        "#### Shape of dataset(rows,columns): (31804, 10)"
      ]
    },
    {
      "cell_type": "code",
      "execution_count": null,
      "id": "809579a5",
      "metadata": {
        "id": "809579a5",
        "outputId": "497efbf3-2074-45fd-9e53-3f95da1e42f7"
      },
      "outputs": [
        {
          "data": {
            "text/plain": [
              "(31804, 10)"
            ]
          },
          "execution_count": 25,
          "metadata": {},
          "output_type": "execute_result"
        }
      ],
      "source": [
        "data.shape"
      ]
    },
    {
      "cell_type": "markdown",
      "id": "4c769e6c",
      "metadata": {
        "id": "4c769e6c"
      },
      "source": [
        "## Peeking the dataset"
      ]
    },
    {
      "cell_type": "code",
      "execution_count": null,
      "id": "6102f7ee",
      "metadata": {
        "id": "6102f7ee",
        "outputId": "d7ce4a05-b704-4604-9c87-1715ebd8f5a0"
      },
      "outputs": [
        {
          "data": {
            "text/html": [
              "<div>\n",
              "<style scoped>\n",
              "    .dataframe tbody tr th:only-of-type {\n",
              "        vertical-align: middle;\n",
              "    }\n",
              "\n",
              "    .dataframe tbody tr th {\n",
              "        vertical-align: top;\n",
              "    }\n",
              "\n",
              "    .dataframe thead th {\n",
              "        text-align: right;\n",
              "    }\n",
              "</style>\n",
              "<table border=\"1\" class=\"dataframe\">\n",
              "  <thead>\n",
              "    <tr style=\"text-align: right;\">\n",
              "      <th></th>\n",
              "      <th>Restaurant Name</th>\n",
              "      <th>Category</th>\n",
              "      <th>Rating</th>\n",
              "      <th>Cost for two</th>\n",
              "      <th>Veg</th>\n",
              "      <th>city</th>\n",
              "      <th>Area</th>\n",
              "      <th>Locality</th>\n",
              "      <th>Address</th>\n",
              "      <th>Long Distance Delivery</th>\n",
              "    </tr>\n",
              "  </thead>\n",
              "  <tbody>\n",
              "    <tr>\n",
              "      <th>0</th>\n",
              "      <td>KFC</td>\n",
              "      <td>American,Snacks,Biryani</td>\n",
              "      <td>3.9</td>\n",
              "      <td>400</td>\n",
              "      <td>False</td>\n",
              "      <td>Delhi</td>\n",
              "      <td>Paharganj</td>\n",
              "      <td>KFC Paharganj</td>\n",
              "      <td>KFC Restaurant 2154, Desh Bandhu Gupta Road, N...</td>\n",
              "      <td>0</td>\n",
              "    </tr>\n",
              "    <tr>\n",
              "      <th>1</th>\n",
              "      <td>McDonald's</td>\n",
              "      <td>American</td>\n",
              "      <td>4.3</td>\n",
              "      <td>400</td>\n",
              "      <td>False</td>\n",
              "      <td>Delhi</td>\n",
              "      <td>Kashmere Gate</td>\n",
              "      <td>Delhi ISBT DMRC (GF)</td>\n",
              "      <td>Delhi ISBT DMRC,ISBT DMRC Railway Station. Kas...</td>\n",
              "      <td>0</td>\n",
              "    </tr>\n",
              "    <tr>\n",
              "      <th>2</th>\n",
              "      <td>Haldiram's</td>\n",
              "      <td>Sweets,Snacks,North Indian</td>\n",
              "      <td>4.0</td>\n",
              "      <td>350</td>\n",
              "      <td>True</td>\n",
              "      <td>Delhi</td>\n",
              "      <td>Chandni Chowk</td>\n",
              "      <td>Chandni Chowk</td>\n",
              "      <td>1452/2 Near Fountain Chandni Chowk Delhi 110015</td>\n",
              "      <td>0</td>\n",
              "    </tr>\n",
              "    <tr>\n",
              "      <th>3</th>\n",
              "      <td>Chai Point</td>\n",
              "      <td>Bakery,Beverages,Maharashtrian,Snacks,Street F...</td>\n",
              "      <td>4.2</td>\n",
              "      <td>150</td>\n",
              "      <td>False</td>\n",
              "      <td>Delhi</td>\n",
              "      <td>Connaught Place</td>\n",
              "      <td>Connaught Place</td>\n",
              "      <td>Shop No - B1, B Block Middle circle , Connaugh...</td>\n",
              "      <td>0</td>\n",
              "    </tr>\n",
              "    <tr>\n",
              "      <th>4</th>\n",
              "      <td>Bikanervala Chandni Chowk</td>\n",
              "      <td>Street Food,Sweets</td>\n",
              "      <td>4.1</td>\n",
              "      <td>400</td>\n",
              "      <td>False</td>\n",
              "      <td>Delhi</td>\n",
              "      <td>Old Delhi</td>\n",
              "      <td>Old Delhi</td>\n",
              "      <td>382, NEAR FATEH PUR, CHANDNI CHOWK,110006</td>\n",
              "      <td>0</td>\n",
              "    </tr>\n",
              "  </tbody>\n",
              "</table>\n",
              "</div>"
            ],
            "text/plain": [
              "             Restaurant Name  \\\n",
              "0                        KFC   \n",
              "1                 McDonald's   \n",
              "2                 Haldiram's   \n",
              "3                 Chai Point   \n",
              "4  Bikanervala Chandni Chowk   \n",
              "\n",
              "                                            Category  Rating  Cost for two  \\\n",
              "0                            American,Snacks,Biryani     3.9           400   \n",
              "1                                           American     4.3           400   \n",
              "2                         Sweets,Snacks,North Indian     4.0           350   \n",
              "3  Bakery,Beverages,Maharashtrian,Snacks,Street F...     4.2           150   \n",
              "4                                 Street Food,Sweets     4.1           400   \n",
              "\n",
              "     Veg   city             Area              Locality  \\\n",
              "0  False  Delhi        Paharganj         KFC Paharganj   \n",
              "1  False  Delhi    Kashmere Gate  Delhi ISBT DMRC (GF)   \n",
              "2   True  Delhi    Chandni Chowk         Chandni Chowk   \n",
              "3  False  Delhi  Connaught Place       Connaught Place   \n",
              "4  False  Delhi        Old Delhi             Old Delhi   \n",
              "\n",
              "                                             Address  Long Distance Delivery  \n",
              "0  KFC Restaurant 2154, Desh Bandhu Gupta Road, N...                       0  \n",
              "1  Delhi ISBT DMRC,ISBT DMRC Railway Station. Kas...                       0  \n",
              "2    1452/2 Near Fountain Chandni Chowk Delhi 110015                       0  \n",
              "3  Shop No - B1, B Block Middle circle , Connaugh...                       0  \n",
              "4          382, NEAR FATEH PUR, CHANDNI CHOWK,110006                       0  "
            ]
          },
          "execution_count": 27,
          "metadata": {},
          "output_type": "execute_result"
        }
      ],
      "source": [
        "data.head()"
      ]
    },
    {
      "cell_type": "markdown",
      "id": "fa6be97f",
      "metadata": {
        "id": "fa6be97f"
      },
      "source": [
        "## Data Content\n",
        "#### The dataset has 10 variables namely:\n",
        "    * Restaurant Name\n",
        "    * Category\n",
        "    * Rating                  \n",
        "    * Cost for two              \n",
        "    * Veg                        \n",
        "    * city                     \n",
        "    * Area                     \n",
        "    * Locality                 \n",
        "    * Address                 \n",
        "    * Long Distance Delivery "
      ]
    },
    {
      "cell_type": "markdown",
      "id": "2610b029",
      "metadata": {
        "id": "2610b029"
      },
      "source": [
        "#### We will start be checking for duplicates and dropping them if present"
      ]
    },
    {
      "cell_type": "code",
      "execution_count": null,
      "id": "6c5ef386",
      "metadata": {
        "id": "6c5ef386",
        "outputId": "54f3274a-ace8-447d-b968-70a73564351e"
      },
      "outputs": [
        {
          "data": {
            "text/plain": [
              "0"
            ]
          },
          "execution_count": 44,
          "metadata": {},
          "output_type": "execute_result"
        }
      ],
      "source": [
        "data.duplicated().sum()"
      ]
    },
    {
      "cell_type": "code",
      "execution_count": null,
      "id": "5dc71c4d",
      "metadata": {
        "id": "5dc71c4d",
        "outputId": "aed905ab-2c1a-4489-8324-181509239c25"
      },
      "outputs": [
        {
          "name": "stdout",
          "output_type": "stream",
          "text": [
            "<class 'pandas.core.frame.DataFrame'>\n",
            "RangeIndex: 31804 entries, 0 to 31803\n",
            "Data columns (total 10 columns):\n",
            " #   Column                  Non-Null Count  Dtype  \n",
            "---  ------                  --------------  -----  \n",
            " 0   Restaurant Name         31804 non-null  object \n",
            " 1   Category                31804 non-null  object \n",
            " 2   Rating                  14138 non-null  float64\n",
            " 3   Cost for two            31804 non-null  int64  \n",
            " 4   Veg                     31804 non-null  bool   \n",
            " 5   city                    31804 non-null  object \n",
            " 6   Area                    31804 non-null  object \n",
            " 7   Locality                31780 non-null  object \n",
            " 8   Address                 31802 non-null  object \n",
            " 9   Long Distance Delivery  31804 non-null  int64  \n",
            "dtypes: bool(1), float64(1), int64(2), object(6)\n",
            "memory usage: 2.2+ MB\n"
          ]
        }
      ],
      "source": [
        "data.info()"
      ]
    },
    {
      "cell_type": "markdown",
      "id": "6b232191",
      "metadata": {
        "id": "6b232191"
      },
      "source": [
        "#### The above information shows:\n",
        "        * that out of 10 columns, 3 are numerical, 1 is boolean and rest 6 object type\n",
        "        * Some of the fields have null values\n",
        "        * There are no duplicates"
      ]
    },
    {
      "cell_type": "markdown",
      "id": "1495fc28",
      "metadata": {
        "id": "1495fc28"
      },
      "source": [
        "#### Next, the null values need to be handled for cleaning the data and making it useful for visualisation"
      ]
    },
    {
      "cell_type": "code",
      "execution_count": null,
      "id": "df6a255b",
      "metadata": {
        "id": "df6a255b",
        "outputId": "a9bea824-db0d-4d09-d358-e02f11bfdbb4"
      },
      "outputs": [
        {
          "data": {
            "text/plain": [
              "Restaurant Name               0\n",
              "Category                      0\n",
              "Rating                    17666\n",
              "Cost for two                  0\n",
              "Veg                           0\n",
              "city                          0\n",
              "Area                          0\n",
              "Locality                     24\n",
              "Address                       2\n",
              "Long Distance Delivery        0\n",
              "dtype: int64"
            ]
          },
          "execution_count": 29,
          "metadata": {},
          "output_type": "execute_result"
        }
      ],
      "source": [
        "data.isnull().sum()"
      ]
    },
    {
      "cell_type": "markdown",
      "id": "1bf84814",
      "metadata": {
        "id": "1bf84814"
      },
      "source": [
        "#### From above table, it shows that the fields Rating, Locality and Address have null values(in ascending order)."
      ]
    },
    {
      "cell_type": "markdown",
      "id": "ad924db6",
      "metadata": {
        "id": "ad924db6"
      },
      "source": [
        "#### Firstly, Address column can be dropped as the exact address of the customer is not needed, only the locality is required which present seperately in the dataset"
      ]
    },
    {
      "cell_type": "code",
      "execution_count": null,
      "id": "c2ae9993",
      "metadata": {
        "id": "c2ae9993"
      },
      "outputs": [],
      "source": [
        "#removing 'Address'\n",
        "data.drop(['Address'],inplace=True,axis=1)"
      ]
    },
    {
      "cell_type": "code",
      "execution_count": null,
      "id": "337204d1",
      "metadata": {
        "id": "337204d1",
        "outputId": "659c8821-efa5-4c67-b0a6-46ebac31741b"
      },
      "outputs": [
        {
          "name": "stdout",
          "output_type": "stream",
          "text": [
            "<class 'pandas.core.frame.DataFrame'>\n",
            "RangeIndex: 31804 entries, 0 to 31803\n",
            "Data columns (total 9 columns):\n",
            " #   Column                  Non-Null Count  Dtype  \n",
            "---  ------                  --------------  -----  \n",
            " 0   Restaurant Name         31804 non-null  object \n",
            " 1   Category                31804 non-null  object \n",
            " 2   Rating                  14138 non-null  float64\n",
            " 3   Cost for two            31804 non-null  int64  \n",
            " 4   Veg                     31804 non-null  bool   \n",
            " 5   city                    31804 non-null  object \n",
            " 6   Area                    31804 non-null  object \n",
            " 7   Locality                31780 non-null  object \n",
            " 8   Long Distance Delivery  31804 non-null  int64  \n",
            "dtypes: bool(1), float64(1), int64(2), object(5)\n",
            "memory usage: 2.0+ MB\n"
          ]
        }
      ],
      "source": [
        "data.info() # Columns after deleting 'Address' "
      ]
    },
    {
      "cell_type": "markdown",
      "id": "2cdb93b2",
      "metadata": {
        "id": "2cdb93b2"
      },
      "source": [
        "#### Next, the null values in 'Locality' can be filled with 'NA' as filling out with assumed values is not appropriate"
      ]
    },
    {
      "cell_type": "code",
      "execution_count": null,
      "id": "3977f0c6",
      "metadata": {
        "id": "3977f0c6"
      },
      "outputs": [],
      "source": [
        "data['Locality'].fillna('NA',inplace=True)"
      ]
    },
    {
      "cell_type": "code",
      "execution_count": null,
      "id": "826c958d",
      "metadata": {
        "id": "826c958d",
        "outputId": "67cd7815-aa58-4825-eedd-bf5a78df15ed"
      },
      "outputs": [
        {
          "data": {
            "text/plain": [
              "Restaurant Name               0\n",
              "Category                      0\n",
              "Rating                    17666\n",
              "Cost for two                  0\n",
              "Veg                           0\n",
              "city                          0\n",
              "Area                          0\n",
              "Locality                      0\n",
              "Long Distance Delivery        0\n",
              "dtype: int64"
            ]
          },
          "execution_count": 6,
          "metadata": {},
          "output_type": "execute_result"
        }
      ],
      "source": [
        "data.isnull().sum() # Checking if the values are filled"
      ]
    },
    {
      "cell_type": "markdown",
      "id": "d3119a30",
      "metadata": {
        "id": "d3119a30"
      },
      "source": [
        "#### Lastly, the null values in 'Rating' can be filled with 0 as the ratings start from 1, making them as outliers "
      ]
    },
    {
      "cell_type": "code",
      "execution_count": null,
      "id": "d46a9703",
      "metadata": {
        "id": "d46a9703"
      },
      "outputs": [],
      "source": [
        "data['Rating'].fillna(0,inplace=True)"
      ]
    },
    {
      "cell_type": "code",
      "execution_count": null,
      "id": "76747f4d",
      "metadata": {
        "id": "76747f4d",
        "outputId": "0382aca7-5b93-4afa-f505-b3ea23f3afc6"
      },
      "outputs": [
        {
          "data": {
            "text/plain": [
              "Restaurant Name           0\n",
              "Category                  0\n",
              "Rating                    0\n",
              "Cost for two              0\n",
              "Veg                       0\n",
              "city                      0\n",
              "Area                      0\n",
              "Locality                  0\n",
              "Long Distance Delivery    0\n",
              "dtype: int64"
            ]
          },
          "execution_count": 8,
          "metadata": {},
          "output_type": "execute_result"
        }
      ],
      "source": [
        "data.isnull().sum() # checking to see if the null values are removed"
      ]
    },
    {
      "cell_type": "markdown",
      "id": "6f8f621c",
      "metadata": {
        "id": "6f8f621c"
      },
      "source": [
        "## Insights"
      ]
    },
    {
      "cell_type": "code",
      "execution_count": null,
      "id": "2e9b70f6",
      "metadata": {
        "id": "2e9b70f6",
        "outputId": "e433d953-64ed-43a2-984e-8a06c8538094"
      },
      "outputs": [
        {
          "data": {
            "text/html": [
              "<div>\n",
              "<style scoped>\n",
              "    .dataframe tbody tr th:only-of-type {\n",
              "        vertical-align: middle;\n",
              "    }\n",
              "\n",
              "    .dataframe tbody tr th {\n",
              "        vertical-align: top;\n",
              "    }\n",
              "\n",
              "    .dataframe thead th {\n",
              "        text-align: right;\n",
              "    }\n",
              "</style>\n",
              "<table border=\"1\" class=\"dataframe\">\n",
              "  <thead>\n",
              "    <tr style=\"text-align: right;\">\n",
              "      <th></th>\n",
              "      <th>Rating</th>\n",
              "      <th>Cost for two</th>\n",
              "      <th>Long Distance Delivery</th>\n",
              "    </tr>\n",
              "  </thead>\n",
              "  <tbody>\n",
              "    <tr>\n",
              "      <th>count</th>\n",
              "      <td>31804.000000</td>\n",
              "      <td>31804.000000</td>\n",
              "      <td>31804.000000</td>\n",
              "    </tr>\n",
              "    <tr>\n",
              "      <th>mean</th>\n",
              "      <td>1.737131</td>\n",
              "      <td>289.795592</td>\n",
              "      <td>0.358414</td>\n",
              "    </tr>\n",
              "    <tr>\n",
              "      <th>std</th>\n",
              "      <td>1.965553</td>\n",
              "      <td>174.896346</td>\n",
              "      <td>0.479542</td>\n",
              "    </tr>\n",
              "    <tr>\n",
              "      <th>min</th>\n",
              "      <td>0.000000</td>\n",
              "      <td>0.000000</td>\n",
              "      <td>0.000000</td>\n",
              "    </tr>\n",
              "    <tr>\n",
              "      <th>25%</th>\n",
              "      <td>0.000000</td>\n",
              "      <td>200.000000</td>\n",
              "      <td>0.000000</td>\n",
              "    </tr>\n",
              "    <tr>\n",
              "      <th>50%</th>\n",
              "      <td>0.000000</td>\n",
              "      <td>250.000000</td>\n",
              "      <td>0.000000</td>\n",
              "    </tr>\n",
              "    <tr>\n",
              "      <th>75%</th>\n",
              "      <td>3.900000</td>\n",
              "      <td>300.000000</td>\n",
              "      <td>1.000000</td>\n",
              "    </tr>\n",
              "    <tr>\n",
              "      <th>max</th>\n",
              "      <td>5.000000</td>\n",
              "      <td>3100.000000</td>\n",
              "      <td>1.000000</td>\n",
              "    </tr>\n",
              "  </tbody>\n",
              "</table>\n",
              "</div>"
            ],
            "text/plain": [
              "             Rating  Cost for two  Long Distance Delivery\n",
              "count  31804.000000  31804.000000            31804.000000\n",
              "mean       1.737131    289.795592                0.358414\n",
              "std        1.965553    174.896346                0.479542\n",
              "min        0.000000      0.000000                0.000000\n",
              "25%        0.000000    200.000000                0.000000\n",
              "50%        0.000000    250.000000                0.000000\n",
              "75%        3.900000    300.000000                1.000000\n",
              "max        5.000000   3100.000000                1.000000"
            ]
          },
          "execution_count": 9,
          "metadata": {},
          "output_type": "execute_result"
        }
      ],
      "source": [
        "data.describe()"
      ]
    },
    {
      "cell_type": "code",
      "execution_count": null,
      "id": "3e8267dd",
      "metadata": {
        "id": "3e8267dd",
        "outputId": "095d8044-a433-4ee3-db88-bfefec1283e6"
      },
      "outputs": [
        {
          "data": {
            "text/plain": [
              "array([0, 1], dtype=int64)"
            ]
          },
          "execution_count": 10,
          "metadata": {},
          "output_type": "execute_result"
        }
      ],
      "source": [
        "data['Long Distance Delivery'].unique()"
      ]
    },
    {
      "cell_type": "markdown",
      "id": "2f36cf5a",
      "metadata": {
        "id": "2f36cf5a"
      },
      "source": [
        "#### Insights\n",
        "    * The dataset has more categorical variables than continuous variables\n",
        "    * We have 31804 values in each variable\n",
        "    * Rating ranges from 0-5 with avg of 1.7\n",
        "    * Cost for two ranges from Rs.0-3100 with mean of approx. Rs.290\n",
        "    * Long Distance Delivery has two values (0,1) with median of 0"
      ]
    },
    {
      "cell_type": "markdown",
      "id": "5d8c5f6d",
      "metadata": {
        "id": "5d8c5f6d"
      },
      "source": [
        "### Conclusions\n",
        "    * Rating should be checked for outliers as rating of 0 is used for null values amd rating are in range 1-5\n",
        "    * Cost for two cannot be 0 as shown by the table i.e. min=0"
      ]
    },
    {
      "cell_type": "markdown",
      "id": "95d5c923",
      "metadata": {
        "id": "95d5c923"
      },
      "source": [
        "#### Checking rows having 'Cost for two' as 0"
      ]
    },
    {
      "cell_type": "code",
      "execution_count": null,
      "id": "4bc6ecf9",
      "metadata": {
        "id": "4bc6ecf9",
        "outputId": "c335c3d0-04f2-4760-e1b8-7d19b9cc82d2"
      },
      "outputs": [
        {
          "data": {
            "text/html": [
              "<div>\n",
              "<style scoped>\n",
              "    .dataframe tbody tr th:only-of-type {\n",
              "        vertical-align: middle;\n",
              "    }\n",
              "\n",
              "    .dataframe tbody tr th {\n",
              "        vertical-align: top;\n",
              "    }\n",
              "\n",
              "    .dataframe thead th {\n",
              "        text-align: right;\n",
              "    }\n",
              "</style>\n",
              "<table border=\"1\" class=\"dataframe\">\n",
              "  <thead>\n",
              "    <tr style=\"text-align: right;\">\n",
              "      <th></th>\n",
              "      <th>Restaurant Name</th>\n",
              "      <th>Category</th>\n",
              "      <th>Rating</th>\n",
              "      <th>Cost for two</th>\n",
              "      <th>Veg</th>\n",
              "      <th>city</th>\n",
              "      <th>Area</th>\n",
              "      <th>Locality</th>\n",
              "      <th>Long Distance Delivery</th>\n",
              "    </tr>\n",
              "  </thead>\n",
              "  <tbody>\n",
              "    <tr>\n",
              "      <th>2555</th>\n",
              "      <td>Manik'S Modern Fresh Popcorn</td>\n",
              "      <td>Snacks</td>\n",
              "      <td>4.6</td>\n",
              "      <td>0</td>\n",
              "      <td>True</td>\n",
              "      <td>Mumbai</td>\n",
              "      <td>Matunga</td>\n",
              "      <td>Matunga</td>\n",
              "      <td>1</td>\n",
              "    </tr>\n",
              "    <tr>\n",
              "      <th>12142</th>\n",
              "      <td>New Chappan Bhog</td>\n",
              "      <td>Sweets,Snacks</td>\n",
              "      <td>4.1</td>\n",
              "      <td>0</td>\n",
              "      <td>False</td>\n",
              "      <td>Cawnpore</td>\n",
              "      <td>Khyora</td>\n",
              "      <td>Nagar Nigam Market</td>\n",
              "      <td>0</td>\n",
              "    </tr>\n",
              "    <tr>\n",
              "      <th>18314</th>\n",
              "      <td>Prakash Vegetables And Fruits</td>\n",
              "      <td>8:15 To 11:30 Pm</td>\n",
              "      <td>0.0</td>\n",
              "      <td>0</td>\n",
              "      <td>False</td>\n",
              "      <td>Chinchvad</td>\n",
              "      <td>Pimple Saudagar</td>\n",
              "      <td>Vishwashanti Colony No 4</td>\n",
              "      <td>1</td>\n",
              "    </tr>\n",
              "    <tr>\n",
              "      <th>30209</th>\n",
              "      <td>Ferns n Petal</td>\n",
              "      <td>Indian</td>\n",
              "      <td>0.0</td>\n",
              "      <td>0</td>\n",
              "      <td>False</td>\n",
              "      <td>Chandigarh</td>\n",
              "      <td>North Mohali</td>\n",
              "      <td>mohali</td>\n",
              "      <td>1</td>\n",
              "    </tr>\n",
              "  </tbody>\n",
              "</table>\n",
              "</div>"
            ],
            "text/plain": [
              "                     Restaurant Name          Category  Rating  Cost for two  \\\n",
              "2555    Manik'S Modern Fresh Popcorn            Snacks     4.6             0   \n",
              "12142               New Chappan Bhog     Sweets,Snacks     4.1             0   \n",
              "18314  Prakash Vegetables And Fruits  8:15 To 11:30 Pm     0.0             0   \n",
              "30209                  Ferns n Petal            Indian     0.0             0   \n",
              "\n",
              "         Veg        city             Area                  Locality  \\\n",
              "2555    True      Mumbai          Matunga                   Matunga   \n",
              "12142  False    Cawnpore           Khyora        Nagar Nigam Market   \n",
              "18314  False   Chinchvad  Pimple Saudagar  Vishwashanti Colony No 4   \n",
              "30209  False  Chandigarh     North Mohali                    mohali   \n",
              "\n",
              "       Long Distance Delivery  \n",
              "2555                        1  \n",
              "12142                       0  \n",
              "18314                       1  \n",
              "30209                       1  "
            ]
          },
          "execution_count": 11,
          "metadata": {},
          "output_type": "execute_result"
        }
      ],
      "source": [
        "data[data['Cost for two']<1]"
      ]
    },
    {
      "cell_type": "markdown",
      "id": "8d9a69a4",
      "metadata": {
        "id": "8d9a69a4"
      },
      "source": [
        "#### Dropping the 4 rows having Cost for two as 0"
      ]
    },
    {
      "cell_type": "code",
      "execution_count": null,
      "id": "7b014ea4",
      "metadata": {
        "id": "7b014ea4"
      },
      "outputs": [],
      "source": [
        "data.drop(data[(data['Cost for two']==0)].index, inplace=True)"
      ]
    },
    {
      "cell_type": "markdown",
      "id": "f86d0450",
      "metadata": {
        "id": "f86d0450"
      },
      "source": [
        "#### Describing the continuous columns again to changed values after dropping"
      ]
    },
    {
      "cell_type": "code",
      "execution_count": null,
      "id": "8bb277f8",
      "metadata": {
        "id": "8bb277f8",
        "outputId": "4b772685-435d-432e-aba5-cb396ace2d8c"
      },
      "outputs": [
        {
          "data": {
            "text/html": [
              "<div>\n",
              "<style scoped>\n",
              "    .dataframe tbody tr th:only-of-type {\n",
              "        vertical-align: middle;\n",
              "    }\n",
              "\n",
              "    .dataframe tbody tr th {\n",
              "        vertical-align: top;\n",
              "    }\n",
              "\n",
              "    .dataframe thead th {\n",
              "        text-align: right;\n",
              "    }\n",
              "</style>\n",
              "<table border=\"1\" class=\"dataframe\">\n",
              "  <thead>\n",
              "    <tr style=\"text-align: right;\">\n",
              "      <th></th>\n",
              "      <th>Rating</th>\n",
              "      <th>Cost for two</th>\n",
              "      <th>Long Distance Delivery</th>\n",
              "    </tr>\n",
              "  </thead>\n",
              "  <tbody>\n",
              "    <tr>\n",
              "      <th>count</th>\n",
              "      <td>31800.000000</td>\n",
              "      <td>31800.000000</td>\n",
              "      <td>31800.000000</td>\n",
              "    </tr>\n",
              "    <tr>\n",
              "      <th>mean</th>\n",
              "      <td>1.737075</td>\n",
              "      <td>289.832044</td>\n",
              "      <td>0.358365</td>\n",
              "    </tr>\n",
              "    <tr>\n",
              "      <th>std</th>\n",
              "      <td>1.965518</td>\n",
              "      <td>174.877141</td>\n",
              "      <td>0.479528</td>\n",
              "    </tr>\n",
              "    <tr>\n",
              "      <th>min</th>\n",
              "      <td>0.000000</td>\n",
              "      <td>1.000000</td>\n",
              "      <td>0.000000</td>\n",
              "    </tr>\n",
              "    <tr>\n",
              "      <th>25%</th>\n",
              "      <td>0.000000</td>\n",
              "      <td>200.000000</td>\n",
              "      <td>0.000000</td>\n",
              "    </tr>\n",
              "    <tr>\n",
              "      <th>50%</th>\n",
              "      <td>0.000000</td>\n",
              "      <td>250.000000</td>\n",
              "      <td>0.000000</td>\n",
              "    </tr>\n",
              "    <tr>\n",
              "      <th>75%</th>\n",
              "      <td>3.900000</td>\n",
              "      <td>300.000000</td>\n",
              "      <td>1.000000</td>\n",
              "    </tr>\n",
              "    <tr>\n",
              "      <th>max</th>\n",
              "      <td>5.000000</td>\n",
              "      <td>3100.000000</td>\n",
              "      <td>1.000000</td>\n",
              "    </tr>\n",
              "  </tbody>\n",
              "</table>\n",
              "</div>"
            ],
            "text/plain": [
              "             Rating  Cost for two  Long Distance Delivery\n",
              "count  31800.000000  31800.000000            31800.000000\n",
              "mean       1.737075    289.832044                0.358365\n",
              "std        1.965518    174.877141                0.479528\n",
              "min        0.000000      1.000000                0.000000\n",
              "25%        0.000000    200.000000                0.000000\n",
              "50%        0.000000    250.000000                0.000000\n",
              "75%        3.900000    300.000000                1.000000\n",
              "max        5.000000   3100.000000                1.000000"
            ]
          },
          "execution_count": 13,
          "metadata": {},
          "output_type": "execute_result"
        }
      ],
      "source": [
        "data.describe()"
      ]
    },
    {
      "cell_type": "markdown",
      "id": "46874d4b",
      "metadata": {
        "id": "46874d4b"
      },
      "source": [
        "#### From the table its visible that minimum Cost for two is not 0 anymore"
      ]
    },
    {
      "cell_type": "markdown",
      "id": "02d79e07",
      "metadata": {
        "id": "02d79e07"
      },
      "source": [
        "## Removing outliers\n",
        "\n",
        "#### Plotting Rating variable to check for outliers"
      ]
    },
    {
      "cell_type": "code",
      "execution_count": null,
      "id": "c690b4ed",
      "metadata": {
        "id": "c690b4ed",
        "outputId": "63319c94-6bf1-4077-fa5d-f3b1d633c410"
      },
      "outputs": [
        {
          "data": {
            "image/png": "[encoded data removed]",
            "text/plain": [
              "<Figure size 432x288 with 1 Axes>"
            ]
          },
          "metadata": {
            "needs_background": "light"
          },
          "output_type": "display_data"
        }
      ],
      "source": [
        "np.random.seed(10)\n",
        "#plt.figure(figsize =(10, 7))\n",
        " \n",
        "plt.boxplot(data['Rating'], vert=False) # Creating plot \n",
        "\n",
        "plt.show() # showing figure"
      ]
    },
    {
      "cell_type": "code",
      "execution_count": null,
      "id": "93afa000",
      "metadata": {
        "id": "93afa000",
        "outputId": "d6e2037a-4944-4b19-a79a-4c056b7738a6"
      },
      "outputs": [
        {
          "data": {
            "text/plain": [
              "(array([    8,     9,    17, ..., 31797, 31798, 31799], dtype=int64),)"
            ]
          },
          "execution_count": 15,
          "metadata": {},
          "output_type": "execute_result"
        }
      ],
      "source": [
        "outlier_index=np.where(data['Rating']<1)\n",
        "outlier_index"
      ]
    },
    {
      "cell_type": "code",
      "execution_count": null,
      "id": "1e57811e",
      "metadata": {
        "id": "1e57811e",
        "outputId": "7a7fd7b7-e451-43db-b9ad-85bfea7d09f1"
      },
      "outputs": [
        {
          "data": {
            "text/plain": [
              "17664"
            ]
          },
          "execution_count": 16,
          "metadata": {},
          "output_type": "execute_result"
        }
      ],
      "source": [
        "data[data['Rating']<1].value_counts().sum()"
      ]
    },
    {
      "cell_type": "markdown",
      "id": "d235f4cc",
      "metadata": {
        "id": "d235f4cc"
      },
      "source": [
        "### Finding the most popular restaurants (No. of orders)"
      ]
    },
    {
      "cell_type": "code",
      "execution_count": null,
      "id": "171e79cd",
      "metadata": {
        "id": "171e79cd",
        "outputId": "b6e7f2c6-c6c7-43bb-9b1d-e733a34d05a4"
      },
      "outputs": [
        {
          "data": {
            "text/plain": [
              "Pizza Hut                                          44\n",
              "Kwality Walls Frozen Dessert and Ice Cream Shop    42\n",
              "NIC Natural Ice Creams                             42\n",
              "KFC                                                41\n",
              "Baskin Robbins                                     41\n",
              "The Good Bowl                                      39\n",
              "Grameen Kulfi                                      39\n",
              "The Biryani Life                                   39\n",
              "McDonald's                                         38\n",
              "Behrouz Biryani                                    38\n",
              "Oven Story Pizza                                   37\n",
              "The Belgian Waffle Co.                             37\n",
              "Subway                                             37\n",
              "LunchBox - Meals and Thalis                        37\n",
              "Faasos - Wraps & Rolls                             36\n",
              "Pure Veg Meals by Lunchbox                         35\n",
              "Cafe Coffee Day                                    35\n",
              "Firangi Bake                                       35\n",
              "Faasos' Signature Wraps & Rolls                    34\n",
              "Sweet Truth - Cake and Desserts                    33\n",
              "Name: Restaurant Name, dtype: int64"
            ]
          },
          "execution_count": 42,
          "metadata": {},
          "output_type": "execute_result"
        }
      ],
      "source": [
        "data1=data['Restaurant Name'].value_counts()[0:20]\n",
        "data1"
      ]
    },
    {
      "cell_type": "code",
      "execution_count": null,
      "id": "fcb8b010",
      "metadata": {
        "id": "fcb8b010",
        "outputId": "2d9e8185-a33c-4bd6-933b-521e20d84b44"
      },
      "outputs": [
        {
          "data": {
            "text/plain": [
              "(20,)"
            ]
          },
          "execution_count": 43,
          "metadata": {},
          "output_type": "execute_result"
        }
      ],
      "source": [
        "data1.shape"
      ]
    },
    {
      "cell_type": "code",
      "execution_count": null,
      "id": "7f7fcd97",
      "metadata": {
        "id": "7f7fcd97"
      },
      "outputs": [],
      "source": [
        "data2=data1[:]"
      ]
    },
    {
      "cell_type": "code",
      "execution_count": null,
      "id": "24938d6e",
      "metadata": {
        "id": "24938d6e",
        "outputId": "1d394363-0d2c-4c04-a9f4-cd00b203b499"
      },
      "outputs": [
        {
          "data": {
            "text/plain": [
              "Pizza Hut                                          44\n",
              "Kwality Walls Frozen Dessert and Ice Cream Shop    42\n",
              "NIC Natural Ice Creams                             42\n",
              "KFC                                                41\n",
              "Baskin Robbins                                     41\n",
              "The Good Bowl                                      39\n",
              "Grameen Kulfi                                      39\n",
              "The Biryani Life                                   39\n",
              "McDonald's                                         38\n",
              "Behrouz Biryani                                    38\n",
              "Oven Story Pizza                                   37\n",
              "The Belgian Waffle Co.                             37\n",
              "Subway                                             37\n",
              "LunchBox - Meals and Thalis                        37\n",
              "Faasos - Wraps & Rolls                             36\n",
              "Pure Veg Meals by Lunchbox                         35\n",
              "Cafe Coffee Day                                    35\n",
              "Firangi Bake                                       35\n",
              "Faasos' Signature Wraps & Rolls                    34\n",
              "Sweet Truth - Cake and Desserts                    33\n",
              "Name: Restaurant Name, dtype: int64"
            ]
          },
          "execution_count": 46,
          "metadata": {},
          "output_type": "execute_result"
        }
      ],
      "source": [
        "data2"
      ]
    },
    {
      "cell_type": "code",
      "execution_count": null,
      "id": "0eac78d8",
      "metadata": {
        "id": "0eac78d8"
      },
      "outputs": [],
      "source": []
    }
  ],
  "metadata": {
    "kernelspec": {
      "display_name": "Python 3",
      "language": "python",
      "name": "python3"
    },
    "language_info": {
      "codemirror_mode": {
        "name": "ipython",
        "version": 3
      },
      "file_extension": ".py",
      "mimetype": "text/x-python",
      "name": "python",
      "nbconvert_exporter": "python",
      "pygments_lexer": "ipython3",
      "version": "3.8.8"
    },
    "colab": {
      "provenance": [],
      "toc_visible": true,
      "include_colab_link": true
    }
  },
  "nbformat": 4,
  "nbformat_minor": 5
}